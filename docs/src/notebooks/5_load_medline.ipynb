{
 "cells": [
  {
   "outputs": [],
   "cell_type": "markdown",
   "source": [
    "# Load MEDLINE"
   ],
   "metadata": {}
  },
  {
   "outputs": [],
   "cell_type": "markdown",
   "source": [
    "The MEDLINE loader process in BioMedQuery saves the MEDLINE baseline files to a\n",
    "MySQL database and saves the raw (xml.gz) and parsed (csv) files to a ```medline```\n",
    "directory that will be created in the provided ```output_dir```.\n",
    "\n",
    "**WARNING:** There are 900+ medline files each with approximately 30,000 articles.\n",
    "This process will take hours to run for the full baseline load.\n",
    "\n",
    "The baseline files can be found [here](ftp://ftp.ncbi.nlm.nih.gov/pubmed/baseline/)."
   ],
   "metadata": {}
  },
  {
   "outputs": [],
   "cell_type": "markdown",
   "source": [
    "### Set Up\n",
    "The database and tables must already be created before loading the medline files.\n",
    "This process is set up for parallel processing.  To take advantage of this, workers\n",
    "can be added before loading the BioMedQuery package using the ```addprocs``` function."
   ],
   "metadata": {}
  },
  {
   "outputs": [],
   "cell_type": "code",
   "source": [
    "using BioMedQuery.DBUtils\n",
    "using BioMedQuery.PubMed\n",
    "using BioMedQuery.Processes"
   ],
   "metadata": {},
   "execution_count": null
  },
  {
   "outputs": [],
   "cell_type": "markdown",
   "source": [
    "BioMedQuery has utility functions to create the database and tables. *Note: creating\n",
    "the tables using this function will drop any tables that already exist in the target\n",
    "database.*"
   ],
   "metadata": {}
  },
  {
   "outputs": [],
   "cell_type": "code",
   "source": [
    "const conn = BioMedQuery.DBUtils.init_mysql_database(\"127.0.0.1\",\"root\",\"\",\"test_db\", true);\n",
    "BioMedQuery.PubMed.create_tables!(conn);"
   ],
   "metadata": {},
   "execution_count": null
  },
  {
   "outputs": [],
   "cell_type": "markdown",
   "source": [
    "### Load a Test File\n",
    "As the full medline load is a large operation, it is recommended that a test run\n",
    "be completed first."
   ],
   "metadata": {}
  },
  {
   "outputs": [],
   "cell_type": "code",
   "source": [
    "@time BioMedQuery.Processes.load_medline!(conn, pwd(), test=true)"
   ],
   "metadata": {},
   "execution_count": null
  },
  {
   "outputs": [],
   "cell_type": "markdown",
   "source": [
    "Review the output of this run in MySQL to make sure that it ran as expected.\n",
    "Additionally, the sample raw and parsed file should be in the new ```medline```\n",
    "directory in the current directory."
   ],
   "metadata": {}
  },
  {
   "outputs": [],
   "cell_type": "markdown",
   "source": [
    "### Performing a Full Load\n",
    "To run a full load, use the same code as above, but do not pass the test variable.\n",
    "It is also possible to break up the load by passing which files to start and stop at -\n",
    "simply pass ```start_file=n``` and ```end_file=p```.\n",
    "\n",
    "After loading, it is recommended you add indexes to the tables, the ```add_mysql_keys!```\n",
    "function can be used to add a standard set of indexes."
   ],
   "metadata": {}
  },
  {
   "outputs": [],
   "cell_type": "code",
   "source": [
    "add_mysql_keys!(conn)"
   ],
   "metadata": {},
   "execution_count": null
  },
  {
   "outputs": [],
   "cell_type": "markdown",
   "source": [
    "*This notebook was generated using [Literate.jl](https://github.com/fredrikekre/Literate.jl).*"
   ],
   "metadata": {}
  }
 ],
 "nbformat_minor": 3,
 "metadata": {
  "language_info": {
   "file_extension": ".jl",
   "mimetype": "application/julia",
   "name": "julia",
   "version": "0.7.0"
  },
  "kernelspec": {
   "name": "julia-0.7",
   "display_name": "Julia 0.7.0",
   "language": "julia"
  }
 },
 "nbformat": 4
}
