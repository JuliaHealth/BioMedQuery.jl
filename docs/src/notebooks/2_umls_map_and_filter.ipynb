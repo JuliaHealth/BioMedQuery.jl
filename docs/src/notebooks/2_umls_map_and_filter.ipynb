{
 "cells": [
  {
   "outputs": [],
   "cell_type": "markdown",
   "source": [
    "# Using UMLS Concepts with MeSH"
   ],
   "metadata": {}
  },
  {
   "outputs": [],
   "cell_type": "markdown",
   "source": [
    "The Medical Subject Headings (MeSH) terms returned from a PubMed search can be further analyzed\n",
    "by mapping them to Unified Medical Language System (UMLS) concepts, as well as\n",
    "filtering the MeSH Terms by concepts."
   ],
   "metadata": {}
  },
  {
   "outputs": [],
   "cell_type": "markdown",
   "source": [
    "For both mapping MeSH to UMLS Concepts and filtering MeSH by concept, the following backends are supported:\n",
    "* MySQL\n",
    "* SQLite\n",
    "* DataFrames"
   ],
   "metadata": {}
  },
  {
   "outputs": [],
   "cell_type": "markdown",
   "source": [
    "### Set Up"
   ],
   "metadata": {}
  },
  {
   "outputs": [],
   "cell_type": "code",
   "source": [
    "using SQLite\n",
    "using MySQL\n",
    "using BioMedQuery.DBUtils\n",
    "using BioMedQuery.Processes\n",
    "using BioServices.UMLS\n",
    "using BioMedQuery.PubMed\n",
    "using DataFrames"
   ],
   "metadata": {},
   "execution_count": 1
  },
  {
   "outputs": [],
   "cell_type": "markdown",
   "source": [
    "Credentials are environment variables (e.g set in your .juliarc.jl)"
   ],
   "metadata": {}
  },
  {
   "outputs": [],
   "cell_type": "code",
   "source": [
    "umls_user = ENV[\"UMLS_USER\"];\n",
    "umls_pswd = ENV[\"UMLS_PSSWD\"];\n",
    "email = \"\"; # Only needed if you want to contact NCBI with inqueries\n",
    "search_term = \"\"\"(obesity[MeSH Major Topic]) AND (\"2010\"[Date - Publication] : \"2012\"[Date - Publication])\"\"\";\n",
    "umls_concept = \"Disease or Syndrome\";\n",
    "max_articles = 5;\n",
    "results_dir = \".\";\n",
    "verbose = true;\n",
    "\n",
    "results_dir = \".\";"
   ],
   "metadata": {},
   "execution_count": 2
  },
  {
   "outputs": [],
   "cell_type": "markdown",
   "source": [
    "## MySQL"
   ],
   "metadata": {}
  },
  {
   "outputs": [],
   "cell_type": "markdown",
   "source": [
    "### Map Medical Subject Headings (MeSH) to UMLS"
   ],
   "metadata": {}
  },
  {
   "outputs": [],
   "cell_type": "markdown",
   "source": [
    "This example demonstrates the typical workflow to populate a MESH2UMLS database\n",
    "table relating all concepts associated with all MeSH terms in the input database."
   ],
   "metadata": {}
  },
  {
   "outputs": [],
   "cell_type": "markdown",
   "source": [
    "*Note: this example reuses the MySQL DB from the PubMed Search and Save example.*\n",
    "\n",
    "Create MySQL DB connection"
   ],
   "metadata": {}
  },
  {
   "outputs": [],
   "cell_type": "code",
   "source": [
    "host = \"127.0.0.1\";\n",
    "mysql_usr = \"root\";\n",
    "mysql_pswd = \"\";\n",
    "dbname = \"pubmed_obesity_2010_2012\";\n",
    "\n",
    "db_mysql = MySQL.connect(host, mysql_usr, mysql_pswd, db = dbname);"
   ],
   "metadata": {},
   "execution_count": 3
  },
  {
   "outputs": [],
   "cell_type": "markdown",
   "source": [
    "Map MeSH to UMLS"
   ],
   "metadata": {}
  },
  {
   "outputs": [
    {
     "name": "stdout",
     "output_type": "stream",
     "text": [
      "----------Matching MESH to UMLS-----------\n",
      "String[\"Adult\", \"Aged\", \"Aged, 80 and over\", \"Analysis of Variance\", \"Body Weight\", \"C-Reactive Protein\", \"Child\", \"Cross-Sectional Studies\", \"Fatigue\", \"Female\", \"Fibromyalgia\", \"Germany\", \"Health Status\", \"Humans\", \"Japan\", \"Male\", \"Middle Aged\", \"Nutrition Surveys\", \"Obesity\", \"Pain\", \"Pain Measurement\", \"Physical Fitness\", \"Prognosis\", \"Quality of Life\", \"Surveys and Questionnaires\", \"Reference Values\", \"Risk Factors\", \"ROC Curve\", \"Severity of Illness Index\", \"Sports\", \"Television\", \"Thyrotropin\", \"Biomarkers\", \"Weight Gain\", \"Exercise\", \"Body Mass Index\", \"Incidence\", \"Prevalence\", \"Logistic Models\", \"Odds Ratio\", \"Case-Control Studies\", \"Age Distribution\", \"Sex Distribution\", \"Sleep Apnea, Obstructive\", \"Metabolic Syndrome\", \"Overweight\", \"Waist Circumference\", \"Young Adult\", \"Obesity, Abdominal\", \"Republic of Korea\", \"Sedentary Lifestyle\", \"Pediatric Obesity\"]\n",
      "INFO: UTS: Reading TGT from file\n",
      "WARNING: ! failed attempt 1 out of 5 for term Health Status with error ErrorException(\"UMLS COULD NOT GET\")\n",
      "WARNING: ! failed attempt 1 out of 5 for term Thyrotropin with error ErrorException(\"UMLS COULD NOT GET\")\n",
      "WARNING: ! failed attempt 1 out of 5 for term Analysis of Variance with error ErrorException(\"UMLS COULD NOT GET\")\n",
      "WARNING: ! failed attempt 1 out of 5 for term Incidence with error ErrorException(\"UMLS COULD NOT GET\")\n",
      "WARNING: ! failed attempt 1 out of 5 for term Body Mass Index with error ErrorException(\"UMLS COULD NOT GET\")\n",
      "WARNING: ! failed attempt 1 out of 5 for term Aged with error ErrorException(\"UMLS COULD NOT GET\")\n",
      "WARNING: ! failed attempt 1 out of 5 for term Aged, 80 and over with error ErrorException(\"UMLS COULD NOT GET\")\n",
      "WARNING: ! failed attempt 1 out of 5 for term C-Reactive Protein with error ErrorException(\"UMLS COULD NOT GET\")\n",
      "WARNING: ! failed attempt 1 out of 5 for term Body Weight with error ErrorException(\"UMLS COULD NOT GET\")\n",
      "WARNING: ! failed attempt 1 out of 5 for term Fibromyalgia with error ErrorException(\"UMLS COULD NOT GET\")\n",
      "WARNING: ! failed attempt 1 out of 5 for term Sleep Apnea, Obstructive with error ErrorException(\"UMLS COULD NOT GET\")\n",
      "WARNING: ! failed attempt 1 out of 5 for term Fatigue with error ErrorException(\"UMLS COULD NOT GET\")\n",
      "WARNING: ! failed attempt 1 out of 5 for term Female with error ErrorException(\"UMLS COULD NOT GET\")\n",
      "WARNING: ! failed attempt 1 out of 5 for term Japan with error ErrorException(\"UMLS COULD NOT GET\")\n",
      "WARNING: ! failed attempt 1 out of 5 for term Cross-Sectional Studies with error ErrorException(\"UMLS COULD NOT GET\")\n",
      "WARNING: ! failed attempt 1 out of 5 for term Child with error ErrorException(\"UMLS COULD NOT GET\")\n",
      "WARNING: ! failed attempt 1 out of 5 for term Republic of Korea with error ErrorException(\"UMLS COULD NOT GET\")\n",
      "WARNING: ! failed attempt 1 out of 5 for term Adult with error ErrorException(\"UMLS COULD NOT GET\")\n",
      "WARNING: ! failed attempt 1 out of 5 for term Germany with error ErrorException(\"UMLS COULD NOT GET\")\n",
      "WARNING: ! failed attempt 1 out of 5 for term Physical Fitness with error ErrorException(\"UMLS COULD NOT GET\")\n",
      "WARNING: ! failed attempt 1 out of 5 for term Middle Aged with error ErrorException(\"UMLS COULD NOT GET\")\n",
      "WARNING: ! failed attempt 1 out of 5 for term Obesity with error ErrorException(\"UMLS COULD NOT GET\")\n",
      "WARNING: ! failed attempt 1 out of 5 for term Pain Measurement with error ErrorException(\"UMLS COULD NOT GET\")\n",
      "WARNING: ! failed attempt 1 out of 5 for term Nutrition Surveys with error ErrorException(\"UMLS COULD NOT GET\")\n",
      "WARNING: ! failed attempt 1 out of 5 for term Humans with error ErrorException(\"UMLS COULD NOT GET\")\n",
      "WARNING: ! failed attempt 1 out of 5 for term Weight Gain with error ErrorException(\"UMLS COULD NOT GET\")\n",
      "WARNING: ! failed attempt 1 out of 5 for term Reference Values with error ErrorException(\"UMLS COULD NOT GET\")\n",
      "WARNING: ! failed attempt 1 out of 5 for term Prognosis with error ErrorException(\"UMLS COULD NOT GET\")\n",
      "WARNING: ! failed attempt 1 out of 5 for term Surveys and Questionnaires with error ErrorException(\"UMLS COULD NOT GET\")\n",
      "WARNING: ! failed attempt 1 out of 5 for term Pain with error ErrorException(\"UMLS COULD NOT GET\")\n",
      "WARNING: ! failed attempt 1 out of 5 for term Male with error ErrorException(\"UMLS COULD NOT GET\")\n",
      "WARNING: ! failed attempt 1 out of 5 for term Severity of Illness Index with error ErrorException(\"UMLS COULD NOT GET\")\n",
      "WARNING: ! failed attempt 1 out of 5 for term Risk Factors with error ErrorException(\"UMLS COULD NOT GET\")\n",
      "WARNING: ! failed attempt 1 out of 5 for term Prevalence with error ErrorException(\"UMLS COULD NOT GET\")\n",
      "WARNING: ! failed attempt 1 out of 5 for term Metabolic Syndrome with error ErrorException(\"UMLS COULD NOT GET\")\n",
      "WARNING: ! failed attempt 1 out of 5 for term Sports with error ErrorException(\"UMLS COULD NOT GET\")\n",
      "WARNING: ! failed attempt 1 out of 5 for term Age Distribution with error ErrorException(\"UMLS COULD NOT GET\")\n",
      "WARNING: ! failed attempt 1 out of 5 for term Biomarkers with error ErrorException(\"UMLS COULD NOT GET\")\n",
      "WARNING: ! failed attempt 1 out of 5 for term Television with error ErrorException(\"UMLS COULD NOT GET\")\n",
      "WARNING: ! failed attempt 1 out of 5 for term ROC Curve with error ErrorException(\"UMLS COULD NOT GET\")\n",
      "WARNING: ! failed attempt 1 out of 5 for term Odds Ratio with error ErrorException(\"UMLS COULD NOT GET\")\n",
      "WARNING: ! failed attempt 1 out of 5 for term Exercise with error ErrorException(\"UMLS COULD NOT GET\")\n",
      "WARNING: ! failed attempt 1 out of 5 for term Waist Circumference with error ErrorException(\"UMLS COULD NOT GET\")\n",
      "WARNING: ! failed attempt 1 out of 5 for term Young Adult with error ErrorException(\"UMLS COULD NOT GET\")\n",
      "WARNING: ! failed attempt 1 out of 5 for term Quality of Life with error ErrorException(\"UMLS COULD NOT GET\")\n",
      "WARNING: ! failed attempt 1 out of 5 for term Logistic Models with error ErrorException(\"UMLS COULD NOT GET\")\n",
      "WARNING: ! failed attempt 1 out of 5 for term Overweight with error ErrorException(\"UMLS COULD NOT GET\")\n",
      "WARNING: ! failed attempt 1 out of 5 for term Sex Distribution with error ErrorException(\"UMLS COULD NOT GET\")\n",
      "WARNING: ! failed attempt 1 out of 5 for term Case-Control Studies with error ErrorException(\"UMLS COULD NOT GET\")\n",
      "WARNING: ! failed attempt 1 out of 5 for term Sedentary Lifestyle with error ErrorException(\"UMLS COULD NOT GET\")\n",
      "WARNING: ! failed attempt 1 out of 5 for term Obesity, Abdominal with error ErrorException(\"UMLS COULD NOT GET\")\n",
      "WARNING: ! failed attempt 2 out of 5 for term Health Status with error ErrorException(\"UMLS COULD NOT GET\")\n",
      "WARNING: ! failed attempt 2 out of 5 for term Thyrotropin with error ErrorException(\"UMLS COULD NOT GET\")\n",
      "WARNING: ! failed attempt 2 out of 5 for term Analysis of Variance with error ErrorException(\"UMLS COULD NOT GET\")\n",
      "WARNING: ! failed attempt 2 out of 5 for term Incidence with error ErrorException(\"UMLS COULD NOT GET\")\n",
      "WARNING: ! failed attempt 2 out of 5 for term Aged, 80 and over with error ErrorException(\"UMLS COULD NOT GET\")\n",
      "WARNING: ! failed attempt 2 out of 5 for term Aged with error ErrorException(\"UMLS COULD NOT GET\")\n",
      "WARNING: ! failed attempt 2 out of 5 for term Body Mass Index with error ErrorException(\"UMLS COULD NOT GET\")\n",
      "WARNING: ! failed attempt 2 out of 5 for term C-Reactive Protein with error ErrorException(\"UMLS COULD NOT GET\")\n",
      "WARNING: ! failed attempt 2 out of 5 for term Body Weight with error ErrorException(\"UMLS COULD NOT GET\")\n",
      "WARNING: ! failed attempt 2 out of 5 for term Pain Measurement with error ErrorException(\"UMLS COULD NOT GET\")\n",
      "WARNING: ! failed attempt 2 out of 5 for term Sleep Apnea, Obstructive with error ErrorException(\"UMLS COULD NOT GET\")\n",
      "WARNING: ! failed attempt 2 out of 5 for term Cross-Sectional Studies with error ErrorException(\"UMLS COULD NOT GET\")\n",
      "WARNING: ! failed attempt 2 out of 5 for term Fibromyalgia with error ErrorException(\"UMLS COULD NOT GET\")\n",
      "WARNING: ! failed attempt 2 out of 5 for term Fatigue with error ErrorException(\"UMLS COULD NOT GET\")\n",
      "WARNING: ! failed attempt 2 out of 5 for term Female with error ErrorException(\"UMLS COULD NOT GET\")\n",
      "WARNING: ! failed attempt 2 out of 5 for term Child with error ErrorException(\"UMLS COULD NOT GET\")\n",
      "WARNING: ! failed attempt 2 out of 5 for term Adult with error ErrorException(\"UMLS COULD NOT GET\")\n",
      "WARNING: ! failed attempt 2 out of 5 for term Germany with error ErrorException(\"UMLS COULD NOT GET\")\n",
      "WARNING: ! failed attempt 2 out of 5 for term Republic of Korea with error ErrorException(\"UMLS COULD NOT GET\")\n",
      "WARNING: ! failed attempt 2 out of 5 for term Japan with error ErrorException(\"UMLS COULD NOT GET\")\n",
      "WARNING: ! failed attempt 2 out of 5 for term Physical Fitness with error ErrorException(\"UMLS COULD NOT GET\")\n",
      "WARNING: ! failed attempt 2 out of 5 for term Obesity with error ErrorException(\"UMLS COULD NOT GET\")\n",
      "WARNING: ! failed attempt 2 out of 5 for term Nutrition Surveys with error ErrorException(\"UMLS COULD NOT GET\")\n",
      "WARNING: ! failed attempt 2 out of 5 for term Middle Aged with error ErrorException(\"UMLS COULD NOT GET\")\n",
      "WARNING: ! failed attempt 2 out of 5 for term Prognosis with error ErrorException(\"UMLS COULD NOT GET\")\n",
      "WARNING: ! failed attempt 2 out of 5 for term Weight Gain with error ErrorException(\"UMLS COULD NOT GET\")\n",
      "WARNING: ! failed attempt 2 out of 5 for term Humans with error ErrorException(\"UMLS COULD NOT GET\")\n",
      "WARNING: ! failed attempt 2 out of 5 for term Reference Values with error ErrorException(\"UMLS COULD NOT GET\")\n",
      "WARNING: ! failed attempt 2 out of 5 for term Pain with error ErrorException(\"UMLS COULD NOT GET\")\n",
      "WARNING: ! failed attempt 2 out of 5 for term Surveys and Questionnaires with error ErrorException(\"UMLS COULD NOT GET\")\n",
      "WARNING: ! failed attempt 2 out of 5 for term Prevalence with error ErrorException(\"UMLS COULD NOT GET\")\n",
      "WARNING: ! failed attempt 2 out of 5 for term Severity of Illness Index with error ErrorException(\"UMLS COULD NOT GET\")\n",
      "WARNING: ! failed attempt 2 out of 5 for term Risk Factors with error ErrorException(\"UMLS COULD NOT GET\")\n",
      "WARNING: ! failed attempt 2 out of 5 for term Age Distribution with error ErrorException(\"UMLS COULD NOT GET\")\n",
      "WARNING: ! failed attempt 2 out of 5 for term Male with error ErrorException(\"UMLS COULD NOT GET\")\n",
      "WARNING: ! failed attempt 2 out of 5 for term ROC Curve with error ErrorException(\"UMLS COULD NOT GET\")\n",
      "WARNING: ! failed attempt 2 out of 5 for term Metabolic Syndrome with error ErrorException(\"UMLS COULD NOT GET\")\n",
      "WARNING: ! failed attempt 2 out of 5 for term Sports with error ErrorException(\"UMLS COULD NOT GET\")\n",
      "WARNING: ! failed attempt 2 out of 5 for term Biomarkers with error ErrorException(\"UMLS COULD NOT GET\")\n",
      "WARNING: ! failed attempt 2 out of 5 for term Odds Ratio with error ErrorException(\"UMLS COULD NOT GET\")\n",
      "WARNING: ! failed attempt 2 out of 5 for term Exercise with error ErrorException(\"UMLS COULD NOT GET\")\n",
      "WARNING: ! failed attempt 2 out of 5 for term Logistic Models with error ErrorException(\"UMLS COULD NOT GET\")\n",
      "WARNING: ! failed attempt 2 out of 5 for term Television with error ErrorException(\"UMLS COULD NOT GET\")\n",
      "WARNING: ! failed attempt 2 out of 5 for term Waist Circumference with error ErrorException(\"UMLS COULD NOT GET\")\n",
      "WARNING: ! failed attempt 2 out of 5 for term Young Adult with error ErrorException(\"UMLS COULD NOT GET\")\n",
      "WARNING: ! failed attempt 2 out of 5 for term Quality of Life with error ErrorException(\"UMLS COULD NOT GET\")\n",
      "WARNING: ! failed attempt 2 out of 5 for term Overweight with error ErrorException(\"UMLS COULD NOT GET\")\n",
      "WARNING: ! failed attempt 2 out of 5 for term Case-Control Studies with error ErrorException(\"UMLS COULD NOT GET\")\n",
      "WARNING: ! failed attempt 2 out of 5 for term Sex Distribution with error ErrorException(\"UMLS COULD NOT GET\")\n",
      "WARNING: ! failed attempt 2 out of 5 for term Sedentary Lifestyle with error ErrorException(\"UMLS COULD NOT GET\")\n",
      "WARNING: ! failed attempt 2 out of 5 for term Obesity, Abdominal with error ErrorException(\"UMLS COULD NOT GET\")\n",
      "WARNING: ! failed attempt 3 out of 5 for term Health Status with error ErrorException(\"UMLS COULD NOT GET\")\n",
      "WARNING: ! failed attempt 3 out of 5 for term Thyrotropin with error ErrorException(\"UMLS COULD NOT GET\")\n",
      "WARNING: ! failed attempt 3 out of 5 for term Analysis of Variance with error ErrorException(\"UMLS COULD NOT GET\")\n",
      "WARNING: ! failed attempt 3 out of 5 for term Incidence with error ErrorException(\"UMLS COULD NOT GET\")\n",
      "WARNING: ! failed attempt 3 out of 5 for term Aged, 80 and over with error ErrorException(\"UMLS COULD NOT GET\")\n",
      "WARNING: ! failed attempt 3 out of 5 for term Aged with error ErrorException(\"UMLS COULD NOT GET\")\n",
      "WARNING: ! failed attempt 3 out of 5 for term Body Mass Index with error ErrorException(\"UMLS COULD NOT GET\")\n",
      "WARNING: ! failed attempt 3 out of 5 for term Body Weight with error ErrorException(\"UMLS COULD NOT GET\")\n",
      "WARNING: ! failed attempt 3 out of 5 for term C-Reactive Protein with error ErrorException(\"UMLS COULD NOT GET\")\n",
      "WARNING: ! failed attempt 3 out of 5 for term Female with error ErrorException(\"UMLS COULD NOT GET\")\n",
      "WARNING: ! failed attempt 3 out of 5 for term Pain Measurement with error ErrorException(\"UMLS COULD NOT GET\")\n",
      "WARNING: ! failed attempt 3 out of 5 for term Sleep Apnea, Obstructive with error ErrorException(\"UMLS COULD NOT GET\")\n",
      "WARNING: ! failed attempt 3 out of 5 for term Cross-Sectional Studies with error ErrorException(\"UMLS COULD NOT GET\")\n",
      "WARNING: ! failed attempt 3 out of 5 for term Fatigue with error ErrorException(\"UMLS COULD NOT GET\")\n",
      "WARNING: ! failed attempt 3 out of 5 for term Adult with error ErrorException(\"UMLS COULD NOT GET\")\n",
      "WARNING: ! failed attempt 3 out of 5 for term Germany with error ErrorException(\"UMLS COULD NOT GET\")\n",
      "WARNING: ! failed attempt 3 out of 5 for term Child with error ErrorException(\"UMLS COULD NOT GET\")\n",
      "WARNING: ! failed attempt 3 out of 5 for term Fibromyalgia with error ErrorException(\"UMLS COULD NOT GET\")\n",
      "WARNING: ! failed attempt 3 out of 5 for term Republic of Korea with error ErrorException(\"UMLS COULD NOT GET\")\n",
      "WARNING: ! failed attempt 3 out of 5 for term Japan with error ErrorException(\"UMLS COULD NOT GET\")\n",
      "WARNING: ! failed attempt 3 out of 5 for term Physical Fitness with error ErrorException(\"UMLS COULD NOT GET\")\n",
      "WARNING: ! failed attempt 3 out of 5 for term Obesity with error ErrorException(\"UMLS COULD NOT GET\")\n",
      "WARNING: ! failed attempt 3 out of 5 for term Pain with error ErrorException(\"UMLS COULD NOT GET\")\n",
      "WARNING: ! failed attempt 3 out of 5 for term Prevalence with error ErrorException(\"UMLS COULD NOT GET\")\n",
      "WARNING: ! failed attempt 3 out of 5 for term Humans with error ErrorException(\"UMLS COULD NOT GET\")\n",
      "WARNING: ! failed attempt 3 out of 5 for term Nutrition Surveys with error ErrorException(\"UMLS COULD NOT GET\")\n",
      "WARNING: ! failed attempt 3 out of 5 for term Weight Gain with error ErrorException(\"UMLS COULD NOT GET\")\n",
      "WARNING: ! failed attempt 3 out of 5 for term Prognosis with error ErrorException(\"UMLS COULD NOT GET\")\n",
      "WARNING: ! failed attempt 3 out of 5 for term Middle Aged with error ErrorException(\"UMLS COULD NOT GET\")\n",
      "WARNING: ! failed attempt 3 out of 5 for term Male with error ErrorException(\"UMLS COULD NOT GET\")\n",
      "WARNING: ! failed attempt 3 out of 5 for term Surveys and Questionnaires with error ErrorException(\"UMLS COULD NOT GET\")\n",
      "WARNING: ! failed attempt 3 out of 5 for term Age Distribution with error ErrorException(\"UMLS COULD NOT GET\")\n",
      "WARNING: ! failed attempt 3 out of 5 for term Severity of Illness Index with error ErrorException(\"UMLS COULD NOT GET\")\n",
      "WARNING: ! failed attempt 3 out of 5 for term Reference Values with error ErrorException(\"UMLS COULD NOT GET\")\n",
      "WARNING: ! failed attempt 3 out of 5 for term Odds Ratio with error ErrorException(\"UMLS COULD NOT GET\")\n",
      "WARNING: ! failed attempt 3 out of 5 for term Biomarkers with error ErrorException(\"UMLS COULD NOT GET\")\n",
      "WARNING: ! failed attempt 3 out of 5 for term Logistic Models with error ErrorException(\"UMLS COULD NOT GET\")\n",
      "WARNING: ! failed attempt 3 out of 5 for term Metabolic Syndrome with error ErrorException(\"UMLS COULD NOT GET\")\n",
      "WARNING: ! failed attempt 3 out of 5 for term Risk Factors with error ErrorException(\"UMLS COULD NOT GET\")\n",
      "WARNING: ! failed attempt 3 out of 5 for term Young Adult with error ErrorException(\"UMLS COULD NOT GET\")\n",
      "WARNING: ! failed attempt 3 out of 5 for term ROC Curve with error ErrorException(\"UMLS COULD NOT GET\")\n",
      "WARNING: ! failed attempt 3 out of 5 for term Sports with error ErrorException(\"UMLS COULD NOT GET\")\n",
      "WARNING: ! failed attempt 3 out of 5 for term Television with error ErrorException(\"UMLS COULD NOT GET\")\n",
      "WARNING: ! failed attempt 3 out of 5 for term Exercise with error ErrorException(\"UMLS COULD NOT GET\")\n",
      "WARNING: ! failed attempt 3 out of 5 for term Waist Circumference with error ErrorException(\"UMLS COULD NOT GET\")\n",
      "WARNING: ! failed attempt 3 out of 5 for term Quality of Life with error ErrorException(\"UMLS COULD NOT GET\")\n",
      "WARNING: ! failed attempt 3 out of 5 for term Sex Distribution with error ErrorException(\"UMLS COULD NOT GET\")\n",
      "WARNING: ! failed attempt 3 out of 5 for term Sedentary Lifestyle with error ErrorException(\"UMLS COULD NOT GET\")\n",
      "WARNING: ! failed attempt 3 out of 5 for term Case-Control Studies with error ErrorException(\"UMLS COULD NOT GET\")\n",
      "WARNING: ! failed attempt 4 out of 5 for term Health Status with error ErrorException(\"UMLS COULD NOT GET\")\n",
      "WARNING: ! failed attempt 3 out of 5 for term Obesity, Abdominal with error ErrorException(\"UMLS COULD NOT GET\")\n",
      "WARNING: ! failed attempt 3 out of 5 for term Overweight with error ErrorException(\"UMLS COULD NOT GET\")\n",
      "WARNING: ! failed attempt 4 out of 5 for term Analysis of Variance with error ErrorException(\"UMLS COULD NOT GET\")\n",
      "WARNING: ! failed attempt 4 out of 5 for term Thyrotropin with error ErrorException(\"UMLS COULD NOT GET\")\n",
      "WARNING: ! failed attempt 4 out of 5 for term Incidence with error ErrorException(\"UMLS COULD NOT GET\")\n",
      "WARNING: ! failed attempt 4 out of 5 for term Aged with error ErrorException(\"UMLS COULD NOT GET\")\n",
      "WARNING: ! failed attempt 4 out of 5 for term Body Mass Index with error ErrorException(\"UMLS COULD NOT GET\")\n",
      "WARNING: ! failed attempt 4 out of 5 for term Aged, 80 and over with error ErrorException(\"UMLS COULD NOT GET\")\n",
      "WARNING: ! failed attempt 4 out of 5 for term Body Weight with error ErrorException(\"UMLS COULD NOT GET\")\n",
      "WARNING: ! failed attempt 4 out of 5 for term Pain Measurement with error ErrorException(\"UMLS COULD NOT GET\")\n",
      "WARNING: ! failed attempt 4 out of 5 for term C-Reactive Protein with error ErrorException(\"UMLS COULD NOT GET\")\n",
      "WARNING: ! failed attempt 4 out of 5 for term Republic of Korea with error ErrorException(\"UMLS COULD NOT GET\")\n",
      "WARNING: ! failed attempt 4 out of 5 for term Female with error ErrorException(\"UMLS COULD NOT GET\")\n",
      "WARNING: ! failed attempt 4 out of 5 for term Sleep Apnea, Obstructive with error ErrorException(\"UMLS COULD NOT GET\")\n",
      "WARNING: ! failed attempt 4 out of 5 for term Fibromyalgia with error ErrorException(\"UMLS COULD NOT GET\")\n",
      "WARNING: ! failed attempt 4 out of 5 for term Nutrition Surveys with error ErrorException(\"UMLS COULD NOT GET\")\n",
      "WARNING: ! failed attempt 4 out of 5 for term Fatigue with error ErrorException(\"UMLS COULD NOT GET\")\n",
      "WARNING: ! failed attempt 4 out of 5 for term Cross-Sectional Studies with error ErrorException(\"UMLS COULD NOT GET\")\n",
      "WARNING: ! failed attempt 4 out of 5 for term Prevalence with error ErrorException(\"UMLS COULD NOT GET\")\n",
      "WARNING: ! failed attempt 4 out of 5 for term Adult with error ErrorException(\"UMLS COULD NOT GET\")\n",
      "WARNING: ! failed attempt 4 out of 5 for term Germany with error ErrorException(\"UMLS COULD NOT GET\")\n",
      "WARNING: ! failed attempt 4 out of 5 for term Prognosis with error ErrorException(\"UMLS COULD NOT GET\")\n",
      "WARNING: ! failed attempt 4 out of 5 for term Child with error ErrorException(\"UMLS COULD NOT GET\")\n",
      "WARNING: ! failed attempt 4 out of 5 for term Japan with error ErrorException(\"UMLS COULD NOT GET\")\n",
      "WARNING: ! failed attempt 4 out of 5 for term Physical Fitness with error ErrorException(\"UMLS COULD NOT GET\")\n",
      "WARNING: ! failed attempt 4 out of 5 for term Obesity with error ErrorException(\"UMLS COULD NOT GET\")\n",
      "WARNING: ! failed attempt 4 out of 5 for term Humans with error ErrorException(\"UMLS COULD NOT GET\")\n",
      "WARNING: ! failed attempt 4 out of 5 for term Young Adult with error ErrorException(\"UMLS COULD NOT GET\")\n",
      "WARNING: ! failed attempt 4 out of 5 for term Pain with error ErrorException(\"UMLS COULD NOT GET\")\n",
      "WARNING: ! failed attempt 4 out of 5 for term Middle Aged with error ErrorException(\"UMLS COULD NOT GET\")\n",
      "WARNING: ! failed attempt 4 out of 5 for term Male with error ErrorException(\"UMLS COULD NOT GET\")\n",
      "WARNING: ! failed attempt 4 out of 5 for term Severity of Illness Index with error ErrorException(\"UMLS COULD NOT GET\")\n",
      "WARNING: ! failed attempt 4 out of 5 for term Obesity, Abdominal with error ErrorException(\"UMLS COULD NOT GET\")\n",
      "WARNING: ! failed attempt 4 out of 5 for term Age Distribution with error ErrorException(\"UMLS COULD NOT GET\")\n",
      "WARNING: ! failed attempt 4 out of 5 for term Weight Gain with error ErrorException(\"UMLS COULD NOT GET\")\n",
      "WARNING: ! failed attempt 4 out of 5 for term Reference Values with error ErrorException(\"UMLS COULD NOT GET\")\n",
      "WARNING: ! failed attempt 4 out of 5 for term Biomarkers with error ErrorException(\"UMLS COULD NOT GET\")\n",
      "WARNING: ! failed attempt 4 out of 5 for term Odds Ratio with error ErrorException(\"UMLS COULD NOT GET\")\n",
      "WARNING: ! failed attempt 4 out of 5 for term Surveys and Questionnaires with error ErrorException(\"UMLS COULD NOT GET\")\n",
      "WARNING: ! failed attempt 4 out of 5 for term Metabolic Syndrome with error ErrorException(\"UMLS COULD NOT GET\")\n",
      "WARNING: ! failed attempt 4 out of 5 for term Logistic Models with error ErrorException(\"UMLS COULD NOT GET\")\n",
      "WARNING: ! failed attempt 4 out of 5 for term Exercise with error ErrorException(\"UMLS COULD NOT GET\")\n",
      "WARNING: ! failed attempt 4 out of 5 for term Television with error ErrorException(\"UMLS COULD NOT GET\")\n",
      "WARNING: ! failed attempt 4 out of 5 for term Risk Factors with error ErrorException(\"UMLS COULD NOT GET\")\n",
      "WARNING: ! failed attempt 4 out of 5 for term Sports with error ErrorException(\"UMLS COULD NOT GET\")\n",
      "WARNING: ! failed attempt 4 out of 5 for term Quality of Life with error ErrorException(\"UMLS COULD NOT GET\")\n",
      "WARNING: ! failed attempt 4 out of 5 for term Sex Distribution with error ErrorException(\"UMLS COULD NOT GET\")\n",
      "WARNING: ! failed attempt 4 out of 5 for term Sedentary Lifestyle with error ErrorException(\"UMLS COULD NOT GET\")\n",
      "WARNING: ! failed attempt 4 out of 5 for term Waist Circumference with error ErrorException(\"UMLS COULD NOT GET\")\n",
      "WARNING: ! failed attempt 4 out of 5 for term Case-Control Studies with error ErrorException(\"UMLS COULD NOT GET\")\n",
      "WARNING: ! failed attempt 4 out of 5 for term ROC Curve with error ErrorException(\"UMLS COULD NOT GET\")\n",
      "WARNING: ! failed attempt 5 out of 5 for term Health Status with error ErrorException(\"UMLS COULD NOT GET\")\n",
      "WARNING: ! failed attempt 5 out of 5 for term Analysis of Variance with error ErrorException(\"UMLS COULD NOT GET\")\n",
      "WARNING: ! failed attempt 4 out of 5 for term Overweight with error ErrorException(\"UMLS COULD NOT GET\")\n",
      "WARNING: ! failed attempt 5 out of 5 for term Thyrotropin with error ErrorException(\"UMLS COULD NOT GET\")\n",
      "WARNING: ! failed attempt 5 out of 5 for term Incidence with error ErrorException(\"UMLS COULD NOT GET\")\n",
      "WARNING: ! failed attempt 5 out of 5 for term Aged with error ErrorException(\"UMLS COULD NOT GET\")\n",
      "WARNING: ! failed attempt 5 out of 5 for term Body Mass Index with error ErrorException(\"UMLS COULD NOT GET\")\n",
      "WARNING: ! failed attempt 5 out of 5 for term Republic of Korea with error ErrorException(\"UMLS COULD NOT GET\")\n",
      "WARNING: ! failed attempt 5 out of 5 for term Aged, 80 and over with error ErrorException(\"UMLS COULD NOT GET\")\n",
      "WARNING: ! failed attempt 5 out of 5 for term Body Weight with error ErrorException(\"UMLS COULD NOT GET\")\n",
      "WARNING: ! failed attempt 5 out of 5 for term Pain Measurement with error ErrorException(\"UMLS COULD NOT GET\")\n",
      "WARNING: ! failed attempt 5 out of 5 for term C-Reactive Protein with error ErrorException(\"UMLS COULD NOT GET\")\n",
      "WARNING: ! failed attempt 5 out of 5 for term Female with error ErrorException(\"UMLS COULD NOT GET\")\n",
      "WARNING: ! failed attempt 5 out of 5 for term Sleep Apnea, Obstructive with error ErrorException(\"UMLS COULD NOT GET\")\n",
      "WARNING: ! failed attempt 5 out of 5 for term Japan with error ErrorException(\"UMLS COULD NOT GET\")\n",
      "WARNING: ! failed attempt 5 out of 5 for term Nutrition Surveys with error ErrorException(\"UMLS COULD NOT GET\")\n",
      "WARNING: ! failed attempt 5 out of 5 for term Fibromyalgia with error ErrorException(\"UMLS COULD NOT GET\")\n",
      "WARNING: ! failed attempt 5 out of 5 for term Cross-Sectional Studies with error ErrorException(\"UMLS COULD NOT GET\")\n",
      "WARNING: ! failed attempt 5 out of 5 for term Obesity with error ErrorException(\"UMLS COULD NOT GET\")\n",
      "WARNING: ! failed attempt 5 out of 5 for term Adult with error ErrorException(\"UMLS COULD NOT GET\")\n",
      "WARNING: ! failed attempt 5 out of 5 for term Prevalence with error ErrorException(\"UMLS COULD NOT GET\")\n",
      "WARNING: ! failed attempt 5 out of 5 for term Fatigue with error ErrorException(\"UMLS COULD NOT GET\")\n",
      "WARNING: ! failed attempt 5 out of 5 for term Prognosis with error ErrorException(\"UMLS COULD NOT GET\")\n",
      "WARNING: ! failed attempt 5 out of 5 for term Germany with error ErrorException(\"UMLS COULD NOT GET\")\n",
      "WARNING: ! failed attempt 5 out of 5 for term Physical Fitness with error ErrorException(\"UMLS COULD NOT GET\")\n",
      "WARNING: ! failed attempt 5 out of 5 for term Child with error ErrorException(\"UMLS COULD NOT GET\")\n",
      "WARNING: ! failed attempt 5 out of 5 for term Humans with error ErrorException(\"UMLS COULD NOT GET\")\n",
      "WARNING: ! failed attempt 5 out of 5 for term Young Adult with error ErrorException(\"UMLS COULD NOT GET\")\n",
      "WARNING: ! failed attempt 5 out of 5 for term Logistic Models with error ErrorException(\"UMLS COULD NOT GET\")\n",
      "WARNING: ! failed attempt 5 out of 5 for term Male with error ErrorException(\"UMLS COULD NOT GET\")\n",
      "WARNING: ! failed attempt 5 out of 5 for term Middle Aged with error ErrorException(\"UMLS COULD NOT GET\")\n",
      "WARNING: ! failed attempt 5 out of 5 for term Pain with error ErrorException(\"UMLS COULD NOT GET\")\n",
      "WARNING: ! failed attempt 5 out of 5 for term Age Distribution with error ErrorException(\"UMLS COULD NOT GET\")\n",
      "WARNING: ! failed attempt 5 out of 5 for term Obesity, Abdominal with error ErrorException(\"UMLS COULD NOT GET\")\n",
      "WARNING: ! failed attempt 5 out of 5 for term Reference Values with error ErrorException(\"UMLS COULD NOT GET\")\n",
      "WARNING: ! failed attempt 5 out of 5 for term Exercise with error ErrorException(\"UMLS COULD NOT GET\")\n",
      "WARNING: ! failed attempt 5 out of 5 for term Metabolic Syndrome with error ErrorException(\"UMLS COULD NOT GET\")\n",
      "WARNING: ! failed attempt 5 out of 5 for term Weight Gain with error ErrorException(\"UMLS COULD NOT GET\")\n",
      "WARNING: ! failed attempt 5 out of 5 for term Severity of Illness Index with error ErrorException(\"UMLS COULD NOT GET\")\n",
      "WARNING: ! failed attempt 5 out of 5 for term Case-Control Studies with error ErrorException(\"UMLS COULD NOT GET\")\n",
      "WARNING: ! failed attempt 5 out of 5 for term Sex Distribution with error ErrorException(\"UMLS COULD NOT GET\")\n",
      "WARNING: ! failed attempt 5 out of 5 for term Surveys and Questionnaires with error ErrorException(\"UMLS COULD NOT GET\")\n",
      "WARNING: ! failed attempt 5 out of 5 for term Sedentary Lifestyle with error ErrorException(\"UMLS COULD NOT GET\")\n",
      "WARNING: ! failed attempt 5 out of 5 for term Biomarkers with error ErrorException(\"UMLS COULD NOT GET\")\n",
      "WARNING: ! failed attempt 5 out of 5 for term Odds Ratio with error ErrorException(\"UMLS COULD NOT GET\")\n",
      "WARNING: ! failed attempt 5 out of 5 for term Waist Circumference with error ErrorException(\"UMLS COULD NOT GET\")\n",
      "WARNING: ! failed attempt 5 out of 5 for term Risk Factors with error ErrorException(\"UMLS COULD NOT GET\")\n",
      "WARNING: ! failed attempt 5 out of 5 for term Sports with error ErrorException(\"UMLS COULD NOT GET\")\n",
      "WARNING: ! failed attempt 5 out of 5 for term Television with error ErrorException(\"UMLS COULD NOT GET\")\n",
      "WARNING: ! failed attempt 5 out of 5 for term Quality of Life with error ErrorException(\"UMLS COULD NOT GET\")\n",
      "WARNING: ! failed attempt 5 out of 5 for term Overweight with error ErrorException(\"UMLS COULD NOT GET\")\n",
      "WARNING: ! failed attempt 5 out of 5 for term ROC Curve with error ErrorException(\"UMLS COULD NOT GET\")\n",
      "WARNING: ! failed attempt 1 out of 5 for term Pediatric Obesity with error ErrorException(\"UMLS COULD NOT GET\")\n",
      "WARNING: ! failed attempt 1 out of 5 for term Sedentary Lifestyle with error ErrorException(\"UMLS COULD NOT GET\")\n",
      "WARNING: ! failed attempt 2 out of 5 for term Pediatric Obesity with error ErrorException(\"UMLS COULD NOT GET\")\n",
      "WARNING: ! failed attempt 2 out of 5 for term Sedentary Lifestyle with error ErrorException(\"UMLS COULD NOT GET\")\n",
      "WARNING: ! failed attempt 3 out of 5 for term Pediatric Obesity with error ErrorException(\"UMLS COULD NOT GET\")\n",
      "WARNING: ! failed attempt 3 out of 5 for term Sedentary Lifestyle with error ErrorException(\"UMLS COULD NOT GET\")\n",
      "WARNING: ! failed attempt 4 out of 5 for term Pediatric Obesity with error ErrorException(\"UMLS COULD NOT GET\")\n",
      "WARNING: ! failed attempt 4 out of 5 for term Sedentary Lifestyle with error ErrorException(\"UMLS COULD NOT GET\")\n",
      "WARNING: ! failed attempt 5 out of 5 for term Pediatric Obesity with error ErrorException(\"UMLS COULD NOT GET\")\n",
      "WARNING: ! failed attempt 5 out of 5 for term Sedentary Lifestyle with error ErrorException(\"UMLS COULD NOT GET\")\n",
      "243.870113 seconds (2.26 M allocations: 254.110 MiB, 0.09% gc time)\n"
     ]
    }
   ],
   "cell_type": "code",
   "source": [
    "@time map_mesh_to_umls_async!(db_mysql, umls_user, umls_pswd; append_results=false, timeout=3);"
   ],
   "metadata": {},
   "execution_count": 4
  },
  {
   "outputs": [],
   "cell_type": "markdown",
   "source": [
    "#### Explore the output table"
   ],
   "metadata": {}
  },
  {
   "outputs": [
    {
     "output_type": "execute_result",
     "data": {
      "text/plain": "0×2 DataFrames.DataFrame\n",
      "text/html": [
       "<table class=\"data-frame\"><thead><tr><th></th><th>mesh</th><th>umls</th></tr></thead><tbody></tbody></table>"
      ]
     },
     "metadata": {},
     "execution_count": 5
    }
   ],
   "cell_type": "code",
   "source": [
    "db_query(db_mysql, \"SELECT * FROM mesh2umls\")"
   ],
   "metadata": {},
   "execution_count": 5
  },
  {
   "outputs": [],
   "cell_type": "markdown",
   "source": [
    "### Filtering MeSH terms by UMLS concept"
   ],
   "metadata": {}
  },
  {
   "outputs": [],
   "cell_type": "markdown",
   "source": [
    "Getting the descriptor to index dictionary and the occurence matrix"
   ],
   "metadata": {}
  },
  {
   "outputs": [
    {
     "name": "stdout",
     "output_type": "stream",
     "text": [
      "Filter mesh query string : SELECT mesh FROM mesh2umls WHERE umls IN ('Disease or Syndrome')\n",
      "-------------------------------------------------------------\n",
      "Found 0 articles with valid descriptors\n",
      "-------------------------------------------------------------\n",
      "  0.844031 seconds (347.45 k allocations: 18.242 MiB)\n"
     ]
    }
   ],
   "cell_type": "code",
   "source": [
    "@time labels2ind, occur = umls_semantic_occurrences(db_mysql, umls_concept);"
   ],
   "metadata": {},
   "execution_count": 6
  },
  {
   "outputs": [],
   "cell_type": "markdown",
   "source": [
    "Descriptor to Index Dictionary"
   ],
   "metadata": {}
  },
  {
   "outputs": [
    {
     "output_type": "execute_result",
     "data": {
      "text/plain": "Dict{String,Int64} with 0 entries"
     },
     "metadata": {},
     "execution_count": 7
    }
   ],
   "cell_type": "code",
   "source": [
    "labels2ind"
   ],
   "metadata": {},
   "execution_count": 7
  },
  {
   "outputs": [],
   "cell_type": "markdown",
   "source": [
    "Output Data Matrix"
   ],
   "metadata": {}
  },
  {
   "outputs": [
    {
     "output_type": "execute_result",
     "data": {
      "text/plain": "0×5 Array{Float64,2}"
     },
     "metadata": {},
     "execution_count": 8
    }
   ],
   "cell_type": "code",
   "source": [
    "full(occur)"
   ],
   "metadata": {},
   "execution_count": 8
  },
  {
   "outputs": [],
   "cell_type": "markdown",
   "source": [
    "## SQLite"
   ],
   "metadata": {}
  },
  {
   "outputs": [],
   "cell_type": "markdown",
   "source": [
    "This example demonstrates the typical workflow to populate a MESH2UMLS database\n",
    "table relating all concepts associated with all MeSH terms in the input database."
   ],
   "metadata": {}
  },
  {
   "outputs": [],
   "cell_type": "markdown",
   "source": [
    "*Note: this example reuses the SQLite DB from the PubMed Search and Save example.*\n",
    "\n",
    "Create SQLite DB connection"
   ],
   "metadata": {}
  },
  {
   "outputs": [
    {
     "name": "stdout",
     "output_type": "stream",
     "text": [
      "Getting 5 articles, starting at index 0\n",
      "------ESearch--------\n",
      "------EFetch--------\n",
      "------Save to database--------\n",
      "Saving 5 articles to database\n",
      "Finished searching, total number of articles: 5\n"
     ]
    }
   ],
   "cell_type": "code",
   "source": [
    "db_path = \"$(results_dir)/pubmed_obesity_2010_2012.db\";\n",
    "db_sqlite = SQLite.DB(db_path);\n",
    "\n",
    "if isfile(db_path) # hide\n",
    "    rm(db_path) # hide\n",
    "end # hide\n",
    "db_sqlite = SQLite.DB(db_path); # hide\n",
    "PubMed.create_tables!(db_sqlite); # hide\n",
    "Processes.pubmed_search_and_save!(email, search_term, max_articles, db_sqlite, false) # hide"
   ],
   "metadata": {},
   "execution_count": 9
  },
  {
   "outputs": [],
   "cell_type": "markdown",
   "source": [
    "### Map MeSH to UMLS"
   ],
   "metadata": {}
  },
  {
   "outputs": [
    {
     "name": "stdout",
     "output_type": "stream",
     "text": [
      "----------Matching MESH to UMLS-----------\n",
      "Union{Missings.Missing, String}[\"Reference Values\", \"Republic of Korea\", \"ROC Curve\", \"Fatigue\", \"Obesity\", \"Risk Factors\", \"Logistic Models\", \"Severity of Illness Index\", \"Male\", \"Case-Control Studies\", \"Analysis of Variance\", \"Sedentary Lifestyle\", \"Prevalence\", \"Quality of Life\", \"Odds Ratio\", \"Exercise\", \"Body Mass Index\", \"Aged\", \"Child\", \"Sex Distribution\", \"Adult\", \"Germany\", \"Sports\", \"Thyrotropin\", \"Pediatric Obesity\", \"Humans\", \"Japan\", \"Cross-Sectional Studies\", \"Weight Gain\", \"Middle Aged\", \"Surveys and Questionnaires\", \"Health Status\", \"Young Adult\", \"Incidence\", \"Prognosis\", \"Body Weight\", \"Pain Measurement\", \"Waist Circumference\", \"Metabolic Syndrome\", \"Pain\", \"Nutrition Surveys\", \"Fibromyalgia\", \"Sleep Apnea, Obstructive\", \"Television\", \"Age Distribution\", \"Overweight\", \"Physical Fitness\", \"Female\", \"Biomarkers\", \"Obesity, Abdominal\", \"C-Reactive Protein\", \"Aged, 80 and over\"]\n",
      "INFO: UTS: Reading TGT from file\n",
      "WARNING: ! failed attempt 1 out of 5 for term Child with error ErrorException(\"UMLS COULD NOT GET\")\n",
      "WARNING: ! failed attempt 1 out of 5 for term Exercise with error ErrorException(\"UMLS COULD NOT GET\")\n",
      "WARNING: ! failed attempt 1 out of 5 for term Reference Values with error ErrorException(\"UMLS COULD NOT GET\")\n",
      "WARNING: ! failed attempt 1 out of 5 for term Republic of Korea with error ErrorException(\"UMLS COULD NOT GET\")\n",
      "WARNING: ! failed attempt 1 out of 5 for term Fatigue with error ErrorException(\"UMLS COULD NOT GET\")\n",
      "WARNING: ! failed attempt 1 out of 5 for term ROC Curve with error ErrorException(\"UMLS COULD NOT GET\")\n",
      "WARNING: ! failed attempt 1 out of 5 for term Obesity with error ErrorException(\"UMLS COULD NOT GET\")\n",
      "WARNING: ! failed attempt 1 out of 5 for term Risk Factors with error ErrorException(\"UMLS COULD NOT GET\")\n",
      "WARNING: ! failed attempt 1 out of 5 for term Prevalence with error ErrorException(\"UMLS COULD NOT GET\")\n",
      "WARNING: ! failed attempt 1 out of 5 for term Logistic Models with error ErrorException(\"UMLS COULD NOT GET\")\n",
      "WARNING: ! failed attempt 1 out of 5 for term Male with error ErrorException(\"UMLS COULD NOT GET\")\n",
      "WARNING: ! failed attempt 1 out of 5 for term Case-Control Studies with error ErrorException(\"UMLS COULD NOT GET\")\n",
      "WARNING: ! failed attempt 1 out of 5 for term Quality of Life with error ErrorException(\"UMLS COULD NOT GET\")\n",
      "WARNING: ! failed attempt 1 out of 5 for term Severity of Illness Index with error ErrorException(\"UMLS COULD NOT GET\")\n",
      "WARNING: ! failed attempt 1 out of 5 for term Odds Ratio with error ErrorException(\"UMLS COULD NOT GET\")\n",
      "WARNING: ! failed attempt 1 out of 5 for term Body Mass Index with error ErrorException(\"UMLS COULD NOT GET\")\n",
      "WARNING: ! failed attempt 1 out of 5 for term Analysis of Variance with error ErrorException(\"UMLS COULD NOT GET\")\n",
      "WARNING: ! failed attempt 1 out of 5 for term Sex Distribution with error ErrorException(\"UMLS COULD NOT GET\")\n",
      "WARNING: ! failed attempt 1 out of 5 for term Sedentary Lifestyle with error ErrorException(\"UMLS COULD NOT GET\")\n",
      "WARNING: ! failed attempt 1 out of 5 for term Adult with error ErrorException(\"UMLS COULD NOT GET\")\n",
      "WARNING: ! failed attempt 1 out of 5 for term Sports with error ErrorException(\"UMLS COULD NOT GET\")\n",
      "WARNING: ! failed attempt 1 out of 5 for term Young Adult with error ErrorException(\"UMLS COULD NOT GET\")\n",
      "WARNING: ! failed attempt 1 out of 5 for term Aged with error ErrorException(\"UMLS COULD NOT GET\")\n",
      "WARNING: ! failed attempt 1 out of 5 for term Thyrotropin with error ErrorException(\"UMLS COULD NOT GET\")\n",
      "WARNING: ! failed attempt 1 out of 5 for term Pediatric Obesity with error ErrorException(\"UMLS COULD NOT GET\")\n",
      "WARNING: ! failed attempt 1 out of 5 for term Germany with error ErrorException(\"UMLS COULD NOT GET\")\n",
      "WARNING: ! failed attempt 1 out of 5 for term Cross-Sectional Studies with error ErrorException(\"UMLS COULD NOT GET\")\n",
      "WARNING: ! failed attempt 1 out of 5 for term Humans with error ErrorException(\"UMLS COULD NOT GET\")\n",
      "WARNING: ! failed attempt 1 out of 5 for term Middle Aged with error ErrorException(\"UMLS COULD NOT GET\")\n",
      "WARNING: ! failed attempt 1 out of 5 for term Weight Gain with error ErrorException(\"UMLS COULD NOT GET\")\n",
      "WARNING: ! failed attempt 1 out of 5 for term Prognosis with error ErrorException(\"UMLS COULD NOT GET\")\n",
      "WARNING: ! failed attempt 1 out of 5 for term Metabolic Syndrome with error ErrorException(\"UMLS COULD NOT GET\")\n",
      "WARNING: ! failed attempt 1 out of 5 for term Incidence with error ErrorException(\"UMLS COULD NOT GET\")\n",
      "WARNING: ! failed attempt 1 out of 5 for term Surveys and Questionnaires with error ErrorException(\"UMLS COULD NOT GET\")\n",
      "WARNING: ! failed attempt 1 out of 5 for term Pain with error ErrorException(\"UMLS COULD NOT GET\")\n",
      "WARNING: ! failed attempt 1 out of 5 for term Sleep Apnea, Obstructive with error ErrorException(\"UMLS COULD NOT GET\")\n",
      "WARNING: ! failed attempt 1 out of 5 for term Fibromyalgia with error ErrorException(\"UMLS COULD NOT GET\")\n",
      "WARNING: ! failed attempt 1 out of 5 for term Health Status with error ErrorException(\"UMLS COULD NOT GET\")\n",
      "WARNING: ! failed attempt 1 out of 5 for term Television with error ErrorException(\"UMLS COULD NOT GET\")\n",
      "WARNING: ! failed attempt 1 out of 5 for term Body Weight with error ErrorException(\"UMLS COULD NOT GET\")\n",
      "WARNING: ! failed attempt 1 out of 5 for term Nutrition Surveys with error ErrorException(\"UMLS COULD NOT GET\")\n",
      "WARNING: ! failed attempt 1 out of 5 for term Japan with error ErrorException(\"UMLS COULD NOT GET\")\n",
      "WARNING: ! failed attempt 1 out of 5 for term Age Distribution with error ErrorException(\"UMLS COULD NOT GET\")\n",
      "WARNING: ! failed attempt 1 out of 5 for term Waist Circumference with error ErrorException(\"UMLS COULD NOT GET\")\n",
      "WARNING: ! failed attempt 1 out of 5 for term Overweight with error ErrorException(\"UMLS COULD NOT GET\")\n",
      "WARNING: ! failed attempt 1 out of 5 for term Pain Measurement with error ErrorException(\"UMLS COULD NOT GET\")\n",
      "WARNING: ! failed attempt 1 out of 5 for term Physical Fitness with error ErrorException(\"UMLS COULD NOT GET\")\n",
      "WARNING: ! failed attempt 1 out of 5 for term Obesity, Abdominal with error ErrorException(\"UMLS COULD NOT GET\")\n",
      "WARNING: ! failed attempt 1 out of 5 for term C-Reactive Protein with error ErrorException(\"UMLS COULD NOT GET\")\n",
      "WARNING: ! failed attempt 1 out of 5 for term Biomarkers with error ErrorException(\"UMLS COULD NOT GET\")\n",
      "WARNING: ! failed attempt 1 out of 5 for term Female with error ErrorException(\"UMLS COULD NOT GET\")\n",
      "WARNING: ! failed attempt 2 out of 5 for term Child with error ErrorException(\"UMLS COULD NOT GET\")\n",
      "WARNING: ! failed attempt 2 out of 5 for term Exercise with error ErrorException(\"UMLS COULD NOT GET\")\n",
      "WARNING: ! failed attempt 2 out of 5 for term Reference Values with error ErrorException(\"UMLS COULD NOT GET\")\n",
      "WARNING: ! failed attempt 2 out of 5 for term Republic of Korea with error ErrorException(\"UMLS COULD NOT GET\")\n",
      "WARNING: ! failed attempt 2 out of 5 for term ROC Curve with error ErrorException(\"UMLS COULD NOT GET\")\n",
      "WARNING: ! failed attempt 2 out of 5 for term Obesity with error ErrorException(\"UMLS COULD NOT GET\")\n",
      "WARNING: ! failed attempt 2 out of 5 for term Fatigue with error ErrorException(\"UMLS COULD NOT GET\")\n",
      "WARNING: ! failed attempt 2 out of 5 for term Logistic Models with error ErrorException(\"UMLS COULD NOT GET\")\n",
      "WARNING: ! failed attempt 2 out of 5 for term Risk Factors with error ErrorException(\"UMLS COULD NOT GET\")\n",
      "WARNING: ! failed attempt 2 out of 5 for term Prevalence with error ErrorException(\"UMLS COULD NOT GET\")\n",
      "WARNING: ! failed attempt 2 out of 5 for term Body Mass Index with error ErrorException(\"UMLS COULD NOT GET\")\n",
      "WARNING: ! failed attempt 2 out of 5 for term Male with error ErrorException(\"UMLS COULD NOT GET\")\n",
      "WARNING: ! failed attempt 2 out of 5 for term Case-Control Studies with error ErrorException(\"UMLS COULD NOT GET\")\n",
      "WARNING: ! failed attempt 2 out of 5 for term Sex Distribution with error ErrorException(\"UMLS COULD NOT GET\")\n",
      "WARNING: ! failed attempt 2 out of 5 for term Quality of Life with error ErrorException(\"UMLS COULD NOT GET\")\n",
      "WARNING: ! failed attempt 2 out of 5 for term Pediatric Obesity with error ErrorException(\"UMLS COULD NOT GET\")\n",
      "WARNING: ! failed attempt 2 out of 5 for term Weight Gain with error ErrorException(\"UMLS COULD NOT GET\")\n",
      "WARNING: ! failed attempt 2 out of 5 for term Severity of Illness Index with error ErrorException(\"UMLS COULD NOT GET\")\n",
      "WARNING: ! failed attempt 2 out of 5 for term Prognosis with error ErrorException(\"UMLS COULD NOT GET\")\n",
      "WARNING: ! failed attempt 2 out of 5 for term Odds Ratio with error ErrorException(\"UMLS COULD NOT GET\")\n",
      "WARNING: ! failed attempt 2 out of 5 for term Sedentary Lifestyle with error ErrorException(\"UMLS COULD NOT GET\")\n",
      "WARNING: ! failed attempt 2 out of 5 for term Analysis of Variance with error ErrorException(\"UMLS COULD NOT GET\")\n",
      "WARNING: ! failed attempt 2 out of 5 for term Adult with error ErrorException(\"UMLS COULD NOT GET\")\n",
      "WARNING: ! failed attempt 2 out of 5 for term Sports with error ErrorException(\"UMLS COULD NOT GET\")\n",
      "WARNING: ! failed attempt 2 out of 5 for term Aged with error ErrorException(\"UMLS COULD NOT GET\")\n",
      "WARNING: ! failed attempt 2 out of 5 for term Waist Circumference with error ErrorException(\"UMLS COULD NOT GET\")\n",
      "WARNING: ! failed attempt 2 out of 5 for term Television with error ErrorException(\"UMLS COULD NOT GET\")\n",
      "WARNING: ! failed attempt 2 out of 5 for term Young Adult with error ErrorException(\"UMLS COULD NOT GET\")\n",
      "WARNING: ! failed attempt 2 out of 5 for term Surveys and Questionnaires with error ErrorException(\"UMLS COULD NOT GET\")\n",
      "WARNING: ! failed attempt 2 out of 5 for term Thyrotropin with error ErrorException(\"UMLS COULD NOT GET\")\n",
      "WARNING: ! failed attempt 2 out of 5 for term Cross-Sectional Studies with error ErrorException(\"UMLS COULD NOT GET\")\n",
      "WARNING: ! failed attempt 2 out of 5 for term Germany with error ErrorException(\"UMLS COULD NOT GET\")\n",
      "WARNING: ! failed attempt 2 out of 5 for term Sleep Apnea, Obstructive with error ErrorException(\"UMLS COULD NOT GET\")\n",
      "WARNING: ! failed attempt 2 out of 5 for term Humans with error ErrorException(\"UMLS COULD NOT GET\")\n",
      "WARNING: ! failed attempt 2 out of 5 for term Fibromyalgia with error ErrorException(\"UMLS COULD NOT GET\")\n",
      "WARNING: ! failed attempt 2 out of 5 for term Incidence with error ErrorException(\"UMLS COULD NOT GET\")\n",
      "WARNING: ! failed attempt 2 out of 5 for term Pain with error ErrorException(\"UMLS COULD NOT GET\")\n",
      "WARNING: ! failed attempt 2 out of 5 for term Metabolic Syndrome with error ErrorException(\"UMLS COULD NOT GET\")\n",
      "WARNING: ! failed attempt 2 out of 5 for term Nutrition Surveys with error ErrorException(\"UMLS COULD NOT GET\")\n",
      "WARNING: ! failed attempt 2 out of 5 for term Middle Aged with error ErrorException(\"UMLS COULD NOT GET\")\n",
      "WARNING: ! failed attempt 2 out of 5 for term Body Weight with error ErrorException(\"UMLS COULD NOT GET\")\n",
      "WARNING: ! failed attempt 2 out of 5 for term Japan with error ErrorException(\"UMLS COULD NOT GET\")\n",
      "WARNING: ! failed attempt 2 out of 5 for term Age Distribution with error ErrorException(\"UMLS COULD NOT GET\")\n",
      "WARNING: ! failed attempt 2 out of 5 for term Health Status with error ErrorException(\"UMLS COULD NOT GET\")\n",
      "WARNING: ! failed attempt 2 out of 5 for term Obesity, Abdominal with error ErrorException(\"UMLS COULD NOT GET\")\n",
      "WARNING: ! failed attempt 2 out of 5 for term Overweight with error ErrorException(\"UMLS COULD NOT GET\")\n",
      "WARNING: ! failed attempt 2 out of 5 for term Pain Measurement with error ErrorException(\"UMLS COULD NOT GET\")\n",
      "WARNING: ! failed attempt 2 out of 5 for term C-Reactive Protein with error ErrorException(\"UMLS COULD NOT GET\")\n",
      "WARNING: ! failed attempt 2 out of 5 for term Biomarkers with error ErrorException(\"UMLS COULD NOT GET\")\n",
      "WARNING: ! failed attempt 2 out of 5 for term Female with error ErrorException(\"UMLS COULD NOT GET\")\n",
      "WARNING: ! failed attempt 2 out of 5 for term Physical Fitness with error ErrorException(\"UMLS COULD NOT GET\")\n",
      "WARNING: ! failed attempt 3 out of 5 for term ROC Curve with error ErrorException(\"UMLS COULD NOT GET\")\n",
      "WARNING: ! failed attempt 3 out of 5 for term Child with error ErrorException(\"UMLS COULD NOT GET\")\n",
      "WARNING: ! failed attempt 3 out of 5 for term Reference Values with error ErrorException(\"UMLS COULD NOT GET\")\n",
      "WARNING: ! failed attempt 3 out of 5 for term Exercise with error ErrorException(\"UMLS COULD NOT GET\")\n",
      "WARNING: ! failed attempt 3 out of 5 for term Republic of Korea with error ErrorException(\"UMLS COULD NOT GET\")\n",
      "WARNING: ! failed attempt 3 out of 5 for term Obesity with error ErrorException(\"UMLS COULD NOT GET\")\n",
      "WARNING: ! failed attempt 3 out of 5 for term Case-Control Studies with error ErrorException(\"UMLS COULD NOT GET\")\n",
      "WARNING: ! failed attempt 3 out of 5 for term Logistic Models with error ErrorException(\"UMLS COULD NOT GET\")\n",
      "WARNING: ! failed attempt 3 out of 5 for term Risk Factors with error ErrorException(\"UMLS COULD NOT GET\")\n",
      "WARNING: ! failed attempt 3 out of 5 for term Fatigue with error ErrorException(\"UMLS COULD NOT GET\")\n",
      "WARNING: ! failed attempt 3 out of 5 for term Prevalence with error ErrorException(\"UMLS COULD NOT GET\")\n",
      "WARNING: ! failed attempt 3 out of 5 for term Body Mass Index with error ErrorException(\"UMLS COULD NOT GET\")\n",
      "WARNING: ! failed attempt 3 out of 5 for term Sex Distribution with error ErrorException(\"UMLS COULD NOT GET\")\n",
      "WARNING: ! failed attempt 3 out of 5 for term Male with error ErrorException(\"UMLS COULD NOT GET\")\n",
      "WARNING: ! failed attempt 3 out of 5 for term Pediatric Obesity with error ErrorException(\"UMLS COULD NOT GET\")\n",
      "WARNING: ! failed attempt 3 out of 5 for term Surveys and Questionnaires with error ErrorException(\"UMLS COULD NOT GET\")\n",
      "WARNING: ! failed attempt 3 out of 5 for term Prognosis with error ErrorException(\"UMLS COULD NOT GET\")\n",
      "WARNING: ! failed attempt 3 out of 5 for term Quality of Life with error ErrorException(\"UMLS COULD NOT GET\")\n",
      "WARNING: ! failed attempt 3 out of 5 for term Weight Gain with error ErrorException(\"UMLS COULD NOT GET\")\n",
      "WARNING: ! failed attempt 3 out of 5 for term Analysis of Variance with error ErrorException(\"UMLS COULD NOT GET\")\n",
      "WARNING: ! failed attempt 3 out of 5 for term Odds Ratio with error ErrorException(\"UMLS COULD NOT GET\")\n",
      "WARNING: ! failed attempt 3 out of 5 for term Pain with error ErrorException(\"UMLS COULD NOT GET\")\n",
      "WARNING: ! failed attempt 3 out of 5 for term Sedentary Lifestyle with error ErrorException(\"UMLS COULD NOT GET\")\n",
      "WARNING: ! failed attempt 3 out of 5 for term Adult with error ErrorException(\"UMLS COULD NOT GET\")\n",
      "WARNING: ! failed attempt 3 out of 5 for term Severity of Illness Index with error ErrorException(\"UMLS COULD NOT GET\")\n",
      "WARNING: ! failed attempt 3 out of 5 for term Young Adult with error ErrorException(\"UMLS COULD NOT GET\")\n",
      "WARNING: ! failed attempt 3 out of 5 for term Sports with error ErrorException(\"UMLS COULD NOT GET\")\n",
      "WARNING: ! failed attempt 3 out of 5 for term Aged with error ErrorException(\"UMLS COULD NOT GET\")\n",
      "WARNING: ! failed attempt 3 out of 5 for term Obesity, Abdominal with error ErrorException(\"UMLS COULD NOT GET\")\n",
      "WARNING: ! failed attempt 3 out of 5 for term Television with error ErrorException(\"UMLS COULD NOT GET\")\n",
      "WARNING: ! failed attempt 3 out of 5 for term Waist Circumference with error ErrorException(\"UMLS COULD NOT GET\")\n",
      "WARNING: ! failed attempt 3 out of 5 for term Cross-Sectional Studies with error ErrorException(\"UMLS COULD NOT GET\")\n",
      "WARNING: ! failed attempt 3 out of 5 for term Thyrotropin with error ErrorException(\"UMLS COULD NOT GET\")\n",
      "WARNING: ! failed attempt 3 out of 5 for term Germany with error ErrorException(\"UMLS COULD NOT GET\")\n",
      "WARNING: ! failed attempt 3 out of 5 for term Sleep Apnea, Obstructive with error ErrorException(\"UMLS COULD NOT GET\")\n",
      "WARNING: ! failed attempt 3 out of 5 for term Overweight with error ErrorException(\"UMLS COULD NOT GET\")\n",
      "WARNING: ! failed attempt 3 out of 5 for term Fibromyalgia with error ErrorException(\"UMLS COULD NOT GET\")\n",
      "WARNING: ! failed attempt 3 out of 5 for term Incidence with error ErrorException(\"UMLS COULD NOT GET\")\n",
      "WARNING: ! failed attempt 3 out of 5 for term Humans with error ErrorException(\"UMLS COULD NOT GET\")\n",
      "WARNING: ! failed attempt 3 out of 5 for term Middle Aged with error ErrorException(\"UMLS COULD NOT GET\")\n",
      "WARNING: ! failed attempt 3 out of 5 for term Nutrition Surveys with error ErrorException(\"UMLS COULD NOT GET\")\n",
      "WARNING: ! failed attempt 3 out of 5 for term Body Weight with error ErrorException(\"UMLS COULD NOT GET\")\n",
      "WARNING: ! failed attempt 3 out of 5 for term Japan with error ErrorException(\"UMLS COULD NOT GET\")\n",
      "WARNING: ! failed attempt 3 out of 5 for term Metabolic Syndrome with error ErrorException(\"UMLS COULD NOT GET\")\n",
      "WARNING: ! failed attempt 3 out of 5 for term Age Distribution with error ErrorException(\"UMLS COULD NOT GET\")\n",
      "WARNING: ! failed attempt 3 out of 5 for term Pain Measurement with error ErrorException(\"UMLS COULD NOT GET\")\n",
      "WARNING: ! failed attempt 3 out of 5 for term Health Status with error ErrorException(\"UMLS COULD NOT GET\")\n",
      "WARNING: ! failed attempt 3 out of 5 for term Biomarkers with error ErrorException(\"UMLS COULD NOT GET\")\n",
      "WARNING: ! failed attempt 3 out of 5 for term C-Reactive Protein with error ErrorException(\"UMLS COULD NOT GET\")\n",
      "WARNING: ! failed attempt 3 out of 5 for term Female with error ErrorException(\"UMLS COULD NOT GET\")\n",
      "WARNING: ! failed attempt 3 out of 5 for term Physical Fitness with error ErrorException(\"UMLS COULD NOT GET\")\n",
      "WARNING: ! failed attempt 4 out of 5 for term ROC Curve with error ErrorException(\"UMLS COULD NOT GET\")\n",
      "WARNING: ! failed attempt 4 out of 5 for term Reference Values with error ErrorException(\"UMLS COULD NOT GET\")\n",
      "WARNING: ! failed attempt 4 out of 5 for term Child with error ErrorException(\"UMLS COULD NOT GET\")\n",
      "WARNING: ! failed attempt 4 out of 5 for term Exercise with error ErrorException(\"UMLS COULD NOT GET\")\n",
      "WARNING: ! failed attempt 4 out of 5 for term Case-Control Studies with error ErrorException(\"UMLS COULD NOT GET\")\n",
      "WARNING: ! failed attempt 4 out of 5 for term Republic of Korea with error ErrorException(\"UMLS COULD NOT GET\")\n",
      "WARNING: ! failed attempt 4 out of 5 for term Obesity with error ErrorException(\"UMLS COULD NOT GET\")\n",
      "WARNING: ! failed attempt 4 out of 5 for term Logistic Models with error ErrorException(\"UMLS COULD NOT GET\")\n",
      "WARNING: ! failed attempt 4 out of 5 for term Fatigue with error ErrorException(\"UMLS COULD NOT GET\")\n",
      "WARNING: ! failed attempt 4 out of 5 for term Risk Factors with error ErrorException(\"UMLS COULD NOT GET\")\n",
      "WARNING: ! failed attempt 4 out of 5 for term Pediatric Obesity with error ErrorException(\"UMLS COULD NOT GET\")\n",
      "WARNING: ! failed attempt 4 out of 5 for term Prevalence with error ErrorException(\"UMLS COULD NOT GET\")\n",
      "WARNING: ! failed attempt 4 out of 5 for term Male with error ErrorException(\"UMLS COULD NOT GET\")\n",
      "WARNING: ! failed attempt 4 out of 5 for term Body Mass Index with error ErrorException(\"UMLS COULD NOT GET\")\n",
      "WARNING: ! failed attempt 4 out of 5 for term Sedentary Lifestyle with error ErrorException(\"UMLS COULD NOT GET\")\n",
      "WARNING: ! failed attempt 4 out of 5 for term Sex Distribution with error ErrorException(\"UMLS COULD NOT GET\")\n",
      "WARNING: ! failed attempt 4 out of 5 for term Prognosis with error ErrorException(\"UMLS COULD NOT GET\")\n",
      "WARNING: ! failed attempt 4 out of 5 for term Surveys and Questionnaires with error ErrorException(\"UMLS COULD NOT GET\")\n",
      "WARNING: ! failed attempt 4 out of 5 for term Weight Gain with error ErrorException(\"UMLS COULD NOT GET\")\n",
      "WARNING: ! failed attempt 4 out of 5 for term Quality of Life with error ErrorException(\"UMLS COULD NOT GET\")\n",
      "WARNING: ! failed attempt 4 out of 5 for term Pain with error ErrorException(\"UMLS COULD NOT GET\")\n",
      "WARNING: ! failed attempt 4 out of 5 for term Analysis of Variance with error ErrorException(\"UMLS COULD NOT GET\")\n",
      "WARNING: ! failed attempt 4 out of 5 for term Young Adult with error ErrorException(\"UMLS COULD NOT GET\")\n",
      "WARNING: ! failed attempt 4 out of 5 for term Odds Ratio with error ErrorException(\"UMLS COULD NOT GET\")\n",
      "WARNING: ! failed attempt 4 out of 5 for term Severity of Illness Index with error ErrorException(\"UMLS COULD NOT GET\")\n",
      "WARNING: ! failed attempt 4 out of 5 for term Adult with error ErrorException(\"UMLS COULD NOT GET\")\n",
      "WARNING: ! failed attempt 4 out of 5 for term Obesity, Abdominal with error ErrorException(\"UMLS COULD NOT GET\")\n",
      "WARNING: ! failed attempt 4 out of 5 for term Aged with error ErrorException(\"UMLS COULD NOT GET\")\n",
      "WARNING: ! failed attempt 4 out of 5 for term Cross-Sectional Studies with error ErrorException(\"UMLS COULD NOT GET\")\n",
      "WARNING: ! failed attempt 4 out of 5 for term Germany with error ErrorException(\"UMLS COULD NOT GET\")\n",
      "WARNING: ! failed attempt 4 out of 5 for term Television with error ErrorException(\"UMLS COULD NOT GET\")\n",
      "WARNING: ! failed attempt 4 out of 5 for term Sports with error ErrorException(\"UMLS COULD NOT GET\")\n",
      "WARNING: ! failed attempt 4 out of 5 for term Female with error ErrorException(\"UMLS COULD NOT GET\")\n",
      "WARNING: ! failed attempt 4 out of 5 for term Incidence with error ErrorException(\"UMLS COULD NOT GET\")\n",
      "WARNING: ! failed attempt 4 out of 5 for term Waist Circumference with error ErrorException(\"UMLS COULD NOT GET\")\n",
      "WARNING: ! failed attempt 4 out of 5 for term Sleep Apnea, Obstructive with error ErrorException(\"UMLS COULD NOT GET\")\n",
      "WARNING: ! failed attempt 4 out of 5 for term Thyrotropin with error ErrorException(\"UMLS COULD NOT GET\")\n",
      "WARNING: ! failed attempt 4 out of 5 for term Biomarkers with error ErrorException(\"UMLS COULD NOT GET\")\n",
      "WARNING: ! failed attempt 4 out of 5 for term Middle Aged with error ErrorException(\"UMLS COULD NOT GET\")\n",
      "WARNING: ! failed attempt 4 out of 5 for term Fibromyalgia with error ErrorException(\"UMLS COULD NOT GET\")\n",
      "WARNING: ! failed attempt 4 out of 5 for term Pain Measurement with error ErrorException(\"UMLS COULD NOT GET\")\n",
      "WARNING: ! failed attempt 4 out of 5 for term Nutrition Surveys with error ErrorException(\"UMLS COULD NOT GET\")\n",
      "WARNING: ! failed attempt 4 out of 5 for term Overweight with error ErrorException(\"UMLS COULD NOT GET\")\n",
      "WARNING: ! failed attempt 4 out of 5 for term Humans with error ErrorException(\"UMLS COULD NOT GET\")\n",
      "WARNING: ! failed attempt 4 out of 5 for term Metabolic Syndrome with error ErrorException(\"UMLS COULD NOT GET\")\n",
      "WARNING: ! failed attempt 4 out of 5 for term C-Reactive Protein with error ErrorException(\"UMLS COULD NOT GET\")\n",
      "WARNING: ! failed attempt 4 out of 5 for term Body Weight with error ErrorException(\"UMLS COULD NOT GET\")\n",
      "WARNING: ! failed attempt 4 out of 5 for term Age Distribution with error ErrorException(\"UMLS COULD NOT GET\")\n",
      "WARNING: ! failed attempt 4 out of 5 for term Japan with error ErrorException(\"UMLS COULD NOT GET\")\n",
      "WARNING: ! failed attempt 4 out of 5 for term Health Status with error ErrorException(\"UMLS COULD NOT GET\")\n",
      "WARNING: ! failed attempt 4 out of 5 for term Physical Fitness with error ErrorException(\"UMLS COULD NOT GET\")\n",
      "WARNING: ! failed attempt 5 out of 5 for term ROC Curve with error ErrorException(\"UMLS COULD NOT GET\")\n",
      "WARNING: ! failed attempt 5 out of 5 for term Reference Values with error ErrorException(\"UMLS COULD NOT GET\")\n",
      "WARNING: ! failed attempt 5 out of 5 for term Child with error ErrorException(\"UMLS COULD NOT GET\")\n",
      "WARNING: ! failed attempt 5 out of 5 for term Case-Control Studies with error ErrorException(\"UMLS COULD NOT GET\")\n",
      "WARNING: ! failed attempt 5 out of 5 for term Exercise with error ErrorException(\"UMLS COULD NOT GET\")\n",
      "WARNING: ! failed attempt 5 out of 5 for term Obesity with error ErrorException(\"UMLS COULD NOT GET\")\n",
      "WARNING: ! failed attempt 5 out of 5 for term Republic of Korea with error ErrorException(\"UMLS COULD NOT GET\")\n",
      "WARNING: ! failed attempt 5 out of 5 for term Fatigue with error ErrorException(\"UMLS COULD NOT GET\")\n",
      "WARNING: ! failed attempt 5 out of 5 for term Logistic Models with error ErrorException(\"UMLS COULD NOT GET\")\n",
      "WARNING: ! failed attempt 5 out of 5 for term Risk Factors with error ErrorException(\"UMLS COULD NOT GET\")\n",
      "WARNING: ! failed attempt 5 out of 5 for term Body Mass Index with error ErrorException(\"UMLS COULD NOT GET\")\n",
      "WARNING: ! failed attempt 5 out of 5 for term Sex Distribution with error ErrorException(\"UMLS COULD NOT GET\")\n",
      "WARNING: ! failed attempt 5 out of 5 for term Pediatric Obesity with error ErrorException(\"UMLS COULD NOT GET\")\n",
      "WARNING: ! failed attempt 5 out of 5 for term Male with error ErrorException(\"UMLS COULD NOT GET\")\n",
      "WARNING: ! failed attempt 5 out of 5 for term Prevalence with error ErrorException(\"UMLS COULD NOT GET\")\n",
      "WARNING: ! failed attempt 5 out of 5 for term Prognosis with error ErrorException(\"UMLS COULD NOT GET\")\n",
      "WARNING: ! failed attempt 5 out of 5 for term Sedentary Lifestyle with error ErrorException(\"UMLS COULD NOT GET\")\n",
      "WARNING: ! failed attempt 5 out of 5 for term Surveys and Questionnaires with error ErrorException(\"UMLS COULD NOT GET\")\n",
      "WARNING: ! failed attempt 5 out of 5 for term Pain with error ErrorException(\"UMLS COULD NOT GET\")\n",
      "WARNING: ! failed attempt 5 out of 5 for term Quality of Life with error ErrorException(\"UMLS COULD NOT GET\")\n",
      "WARNING: ! failed attempt 5 out of 5 for term Odds Ratio with error ErrorException(\"UMLS COULD NOT GET\")\n",
      "WARNING: ! failed attempt 5 out of 5 for term Adult with error ErrorException(\"UMLS COULD NOT GET\")\n",
      "WARNING: ! failed attempt 5 out of 5 for term Severity of Illness Index with error ErrorException(\"UMLS COULD NOT GET\")\n",
      "WARNING: ! failed attempt 5 out of 5 for term Obesity, Abdominal with error ErrorException(\"UMLS COULD NOT GET\")\n",
      "WARNING: ! failed attempt 5 out of 5 for term Weight Gain with error ErrorException(\"UMLS COULD NOT GET\")\n",
      "WARNING: ! failed attempt 5 out of 5 for term Analysis of Variance with error ErrorException(\"UMLS COULD NOT GET\")\n",
      "WARNING: ! failed attempt 5 out of 5 for term Young Adult with error ErrorException(\"UMLS COULD NOT GET\")\n",
      "WARNING: ! failed attempt 5 out of 5 for term Biomarkers with error ErrorException(\"UMLS COULD NOT GET\")\n",
      "WARNING: ! failed attempt 5 out of 5 for term Thyrotropin with error ErrorException(\"UMLS COULD NOT GET\")\n",
      "WARNING: ! failed attempt 5 out of 5 for term Female with error ErrorException(\"UMLS COULD NOT GET\")\n",
      "WARNING: ! failed attempt 5 out of 5 for term Aged with error ErrorException(\"UMLS COULD NOT GET\")\n",
      "WARNING: ! failed attempt 5 out of 5 for term Television with error ErrorException(\"UMLS COULD NOT GET\")\n",
      "WARNING: ! failed attempt 5 out of 5 for term Germany with error ErrorException(\"UMLS COULD NOT GET\")\n",
      "WARNING: ! failed attempt 5 out of 5 for term Cross-Sectional Studies with error ErrorException(\"UMLS COULD NOT GET\")\n",
      "WARNING: ! failed attempt 5 out of 5 for term Sports with error ErrorException(\"UMLS COULD NOT GET\")\n",
      "WARNING: ! failed attempt 5 out of 5 for term Age Distribution with error ErrorException(\"UMLS COULD NOT GET\")\n",
      "WARNING: ! failed attempt 5 out of 5 for term C-Reactive Protein with error ErrorException(\"UMLS COULD NOT GET\")\n",
      "WARNING: ! failed attempt 5 out of 5 for term Middle Aged with error ErrorException(\"UMLS COULD NOT GET\")\n",
      "WARNING: ! failed attempt 5 out of 5 for term Incidence with error ErrorException(\"UMLS COULD NOT GET\")\n",
      "WARNING: ! failed attempt 5 out of 5 for term Overweight with error ErrorException(\"UMLS COULD NOT GET\")\n",
      "WARNING: ! failed attempt 5 out of 5 for term Waist Circumference with error ErrorException(\"UMLS COULD NOT GET\")\n",
      "WARNING: ! failed attempt 5 out of 5 for term Humans with error ErrorException(\"UMLS COULD NOT GET\")\n",
      "WARNING: ! failed attempt 5 out of 5 for term Japan with error ErrorException(\"UMLS COULD NOT GET\")\n",
      "WARNING: ! failed attempt 5 out of 5 for term Fibromyalgia with error ErrorException(\"UMLS COULD NOT GET\")\n",
      "WARNING: ! failed attempt 5 out of 5 for term Sleep Apnea, Obstructive with error ErrorException(\"UMLS COULD NOT GET\")\n",
      "WARNING: ! failed attempt 5 out of 5 for term Pain Measurement with error ErrorException(\"UMLS COULD NOT GET\")\n",
      "WARNING: ! failed attempt 5 out of 5 for term Health Status with error ErrorException(\"UMLS COULD NOT GET\")\n",
      "WARNING: ! failed attempt 5 out of 5 for term Metabolic Syndrome with error ErrorException(\"UMLS COULD NOT GET\")\n",
      "WARNING: ! failed attempt 5 out of 5 for term Body Weight with error ErrorException(\"UMLS COULD NOT GET\")\n",
      "WARNING: ! failed attempt 5 out of 5 for term Physical Fitness with error ErrorException(\"UMLS COULD NOT GET\")\n",
      "WARNING: ! failed attempt 5 out of 5 for term Nutrition Surveys with error ErrorException(\"UMLS COULD NOT GET\")\n",
      "WARNING: ! failed attempt 1 out of 5 for term C-Reactive Protein with error ErrorException(\"UMLS COULD NOT GET\")\n",
      "WARNING: ! failed attempt 1 out of 5 for term Aged, 80 and over with error ErrorException(\"UMLS COULD NOT GET\")\n",
      "WARNING: ! failed attempt 2 out of 5 for term C-Reactive Protein with error ErrorException(\"UMLS COULD NOT GET\")\n",
      "WARNING: ! failed attempt 2 out of 5 for term Aged, 80 and over with error ErrorException(\"UMLS COULD NOT GET\")\n",
      "WARNING: ! failed attempt 3 out of 5 for term C-Reactive Protein with error ErrorException(\"UMLS COULD NOT GET\")\n",
      "WARNING: ! failed attempt 3 out of 5 for term Aged, 80 and over with error ErrorException(\"UMLS COULD NOT GET\")\n",
      "WARNING: ! failed attempt 4 out of 5 for term C-Reactive Protein with error ErrorException(\"UMLS COULD NOT GET\")\n",
      "WARNING: ! failed attempt 4 out of 5 for term Aged, 80 and over with error ErrorException(\"UMLS COULD NOT GET\")\n",
      "WARNING: ! failed attempt 5 out of 5 for term C-Reactive Protein with error ErrorException(\"UMLS COULD NOT GET\")\n",
      "WARNING: ! failed attempt 5 out of 5 for term Aged, 80 and over with error ErrorException(\"UMLS COULD NOT GET\")\n",
      "215.963451 seconds (1.45 M allocations: 214.666 MiB, 0.04% gc time)\n"
     ]
    }
   ],
   "cell_type": "code",
   "source": [
    "@time map_mesh_to_umls_async!(db_sqlite, umls_user, umls_pswd; append_results=false, timeout=3);"
   ],
   "metadata": {},
   "execution_count": 10
  },
  {
   "outputs": [],
   "cell_type": "markdown",
   "source": [
    "Explore the output table"
   ],
   "metadata": {}
  },
  {
   "outputs": [
    {
     "output_type": "execute_result",
     "data": {
      "text/plain": "0×2 DataFrames.DataFrame\n",
      "text/html": [
       "<table class=\"data-frame\"><thead><tr><th></th><th>mesh</th><th>umls</th></tr></thead><tbody></tbody></table>"
      ]
     },
     "metadata": {},
     "execution_count": 11
    }
   ],
   "cell_type": "code",
   "source": [
    "db_query(db_sqlite, \"SELECT * FROM mesh2umls;\")"
   ],
   "metadata": {},
   "execution_count": 11
  },
  {
   "outputs": [],
   "cell_type": "markdown",
   "source": [
    "### Filtering MeSH terms by UMLS concept"
   ],
   "metadata": {}
  },
  {
   "outputs": [],
   "cell_type": "markdown",
   "source": [
    "Getting the descriptor to index dictionary and occurence matrix"
   ],
   "metadata": {}
  },
  {
   "outputs": [
    {
     "name": "stdout",
     "output_type": "stream",
     "text": [
      "Filter mesh query string : SELECT mesh FROM mesh2umls WHERE umls IN ('Disease or Syndrome')\n",
      "-------------------------------------------------------------\n",
      "Found 0 articles with valid descriptors\n",
      "-------------------------------------------------------------\n",
      "  0.309646 seconds (104.09 k allocations: 5.471 MiB)\n"
     ]
    }
   ],
   "cell_type": "code",
   "source": [
    "@time labels2ind, occur = umls_semantic_occurrences(db_sqlite, umls_concept);"
   ],
   "metadata": {},
   "execution_count": 12
  },
  {
   "outputs": [],
   "cell_type": "markdown",
   "source": [
    "Descriptor to Index Dictionary"
   ],
   "metadata": {}
  },
  {
   "outputs": [
    {
     "output_type": "execute_result",
     "data": {
      "text/plain": "Dict{String,Int64} with 0 entries"
     },
     "metadata": {},
     "execution_count": 13
    }
   ],
   "cell_type": "code",
   "source": [
    "labels2ind"
   ],
   "metadata": {},
   "execution_count": 13
  },
  {
   "outputs": [],
   "cell_type": "markdown",
   "source": [
    "Output Data Matrix"
   ],
   "metadata": {}
  },
  {
   "outputs": [
    {
     "output_type": "execute_result",
     "data": {
      "text/plain": "0×5 Array{Float64,2}"
     },
     "metadata": {},
     "execution_count": 14
    }
   ],
   "cell_type": "code",
   "source": [
    "full(occur)"
   ],
   "metadata": {},
   "execution_count": 14
  },
  {
   "outputs": [],
   "cell_type": "markdown",
   "source": [
    "## DataFrames"
   ],
   "metadata": {}
  },
  {
   "outputs": [],
   "cell_type": "markdown",
   "source": [
    "This example demonstrates the typical workflow to create a MeSH to UMLS map as a DataFrame\n",
    "relating all concepts associated with all MeSH terms in the input dataframe."
   ],
   "metadata": {}
  },
  {
   "outputs": [],
   "cell_type": "markdown",
   "source": [
    "Get the articles (same as example in PubMed Search and Parse)"
   ],
   "metadata": {}
  },
  {
   "outputs": [
    {
     "name": "stdout",
     "output_type": "stream",
     "text": [
      "Getting 5 articles, starting at index 0\n",
      "------ESearch--------\n",
      "------EFetch--------\n",
      "------Save to dataframes--------\n"
     ]
    },
    {
     "output_type": "execute_result",
     "data": {
      "text/plain": "Dict{String,DataFrames.DataFrame} with 8 entries:\n  \"basic\"               => 5×13 DataFrames.DataFrame. Omitted printing of 9 col…\n  \"mesh_desc\"           => 52×2 DataFrames.DataFrame…\n  \"mesh_qual\"           => 9×2 DataFrames.DataFrame…\n  \"pub_type\"            => 10×3 DataFrames.DataFrame…\n  \"abstract_full\"       => 5×2 DataFrames.DataFrame. Omitted printing of 1 colu…\n  \"author_ref\"          => 35×8 DataFrames.DataFrame. Omitted printing of 3 col…\n  \"mesh_heading\"        => 78×5 DataFrames.DataFrame…\n  \"abstract_structured\" => 4×4 DataFrames.DataFrame. Omitted printing of 1 colu…"
     },
     "metadata": {},
     "execution_count": 15
    }
   ],
   "cell_type": "code",
   "source": [
    "dfs = Processes.pubmed_search_and_parse(email, search_term, max_articles, verbose)"
   ],
   "metadata": {},
   "execution_count": 15
  },
  {
   "outputs": [],
   "cell_type": "markdown",
   "source": [
    "Map MeSH to UMLS and explore the output table"
   ],
   "metadata": {}
  },
  {
   "outputs": [
    {
     "name": "stdout",
     "output_type": "stream",
     "text": [
      "----------Matching MESH to UMLS-----------\n",
      "Any[\"Reference Values\", \"Republic of Korea\", \"ROC Curve\", \"Fatigue\", \"Obesity\", \"Risk Factors\", \"Logistic Models\", \"Severity of Illness Index\", \"Male\", \"Case-Control Studies\", \"Analysis of Variance\", \"Sedentary Lifestyle\", \"Prevalence\", \"Quality of Life\", \"Odds Ratio\", \"Exercise\", \"Body Mass Index\", \"Aged\", \"Child\", \"Sex Distribution\", \"Adult\", \"Germany\", \"Sports\", \"Thyrotropin\", \"Pediatric Obesity\", \"Humans\", \"Japan\", \"Cross-Sectional Studies\", \"Weight Gain\", \"Middle Aged\", \"Surveys and Questionnaires\", \"Health Status\", \"Young Adult\", \"Incidence\", \"Prognosis\", \"Body Weight\", \"Pain Measurement\", \"Waist Circumference\", \"Metabolic Syndrome\", \"Pain\", \"Nutrition Surveys\", \"Fibromyalgia\", \"Sleep Apnea, Obstructive\", \"Television\", \"Age Distribution\", \"Overweight\", \"Physical Fitness\", \"Female\", \"Biomarkers\", \"Obesity, Abdominal\", \"C-Reactive Protein\", \"Aged, 80 and over\"]\n",
      "INFO: UTS: Reading TGT from file\n",
      "WARNING: ! failed attempt 1 out of 5 for term Male with error ErrorException(\"UMLS COULD NOT GET\")\n",
      "WARNING: ! failed attempt 1 out of 5 for term Analysis of Variance with error ErrorException(\"UMLS COULD NOT GET\")\n",
      "WARNING: ! failed attempt 1 out of 5 for term Odds Ratio with error ErrorException(\"UMLS COULD NOT GET\")\n",
      "WARNING: ! failed attempt 1 out of 5 for term Quality of Life with error ErrorException(\"UMLS COULD NOT GET\")\n",
      "WARNING: ! failed attempt 1 out of 5 for term Weight Gain with error ErrorException(\"UMLS COULD NOT GET\")\n",
      "WARNING: ! failed attempt 1 out of 5 for term Republic of Korea with error ErrorException(\"UMLS COULD NOT GET\")\n",
      "WARNING: ! failed attempt 1 out of 5 for term Sleep Apnea, Obstructive with error ErrorException(\"UMLS COULD NOT GET\")\n",
      "WARNING: ! failed attempt 1 out of 5 for term Obesity with error ErrorException(\"UMLS COULD NOT GET\")\n",
      "WARNING: ! failed attempt 1 out of 5 for term Fatigue with error ErrorException(\"UMLS COULD NOT GET\")\n",
      "WARNING: ! failed attempt 1 out of 5 for term ROC Curve with error ErrorException(\"UMLS COULD NOT GET\")\n",
      "WARNING: ! failed attempt 1 out of 5 for term Exercise with error ErrorException(\"UMLS COULD NOT GET\")\n",
      "WARNING: ! failed attempt 1 out of 5 for term Logistic Models with error ErrorException(\"UMLS COULD NOT GET\")\n",
      "WARNING: ! failed attempt 1 out of 5 for term Reference Values with error ErrorException(\"UMLS COULD NOT GET\")\n",
      "WARNING: ! failed attempt 1 out of 5 for term Risk Factors with error ErrorException(\"UMLS COULD NOT GET\")\n",
      "WARNING: ! failed attempt 1 out of 5 for term Prevalence with error ErrorException(\"UMLS COULD NOT GET\")\n",
      "WARNING: ! failed attempt 1 out of 5 for term Sedentary Lifestyle with error ErrorException(\"UMLS COULD NOT GET\")\n",
      "WARNING: ! failed attempt 1 out of 5 for term Child with error ErrorException(\"UMLS COULD NOT GET\")\n",
      "WARNING: ! failed attempt 1 out of 5 for term Cross-Sectional Studies with error ErrorException(\"UMLS COULD NOT GET\")\n",
      "WARNING: ! failed attempt 1 out of 5 for term Sports with error ErrorException(\"UMLS COULD NOT GET\")\n",
      "WARNING: ! failed attempt 1 out of 5 for term Aged with error ErrorException(\"UMLS COULD NOT GET\")\n",
      "WARNING: ! failed attempt 1 out of 5 for term Case-Control Studies with error ErrorException(\"UMLS COULD NOT GET\")\n",
      "WARNING: ! failed attempt 1 out of 5 for term Body Mass Index with error ErrorException(\"UMLS COULD NOT GET\")\n",
      "WARNING: ! failed attempt 1 out of 5 for term Television with error ErrorException(\"UMLS COULD NOT GET\")\n",
      "WARNING: ! failed attempt 1 out of 5 for term Japan with error ErrorException(\"UMLS COULD NOT GET\")\n",
      "WARNING: ! failed attempt 1 out of 5 for term Health Status with error ErrorException(\"UMLS COULD NOT GET\")\n",
      "WARNING: ! failed attempt 1 out of 5 for term Adult with error ErrorException(\"UMLS COULD NOT GET\")\n",
      "WARNING: ! failed attempt 1 out of 5 for term Pediatric Obesity with error ErrorException(\"UMLS COULD NOT GET\")\n",
      "WARNING: ! failed attempt 1 out of 5 for term Severity of Illness Index with error ErrorException(\"UMLS COULD NOT GET\")\n",
      "WARNING: ! failed attempt 1 out of 5 for term Pain Measurement with error ErrorException(\"UMLS COULD NOT GET\")\n",
      "WARNING: ! failed attempt 1 out of 5 for term Humans with error ErrorException(\"UMLS COULD NOT GET\")\n",
      "WARNING: ! failed attempt 1 out of 5 for term Thyrotropin with error ErrorException(\"UMLS COULD NOT GET\")\n",
      "WARNING: ! failed attempt 1 out of 5 for term Young Adult with error ErrorException(\"UMLS COULD NOT GET\")\n",
      "WARNING: ! failed attempt 1 out of 5 for term Sex Distribution with error ErrorException(\"UMLS COULD NOT GET\")\n",
      "WARNING: ! failed attempt 1 out of 5 for term Surveys and Questionnaires with error ErrorException(\"UMLS COULD NOT GET\")\n",
      "WARNING: ! failed attempt 1 out of 5 for term Fibromyalgia with error ErrorException(\"UMLS COULD NOT GET\")\n",
      "WARNING: ! failed attempt 1 out of 5 for term Metabolic Syndrome with error ErrorException(\"UMLS COULD NOT GET\")\n",
      "WARNING: ! failed attempt 1 out of 5 for term Age Distribution with error ErrorException(\"UMLS COULD NOT GET\")\n",
      "WARNING: ! failed attempt 1 out of 5 for term Middle Aged with error ErrorException(\"UMLS COULD NOT GET\")\n",
      "WARNING: ! failed attempt 1 out of 5 for term Germany with error ErrorException(\"UMLS COULD NOT GET\")\n",
      "WARNING: ! failed attempt 1 out of 5 for term Body Weight with error ErrorException(\"UMLS COULD NOT GET\")\n",
      "WARNING: ! failed attempt 1 out of 5 for term Pain with error ErrorException(\"UMLS COULD NOT GET\")\n",
      "WARNING: ! failed attempt 1 out of 5 for term Waist Circumference with error ErrorException(\"UMLS COULD NOT GET\")\n",
      "WARNING: ! failed attempt 1 out of 5 for term Nutrition Surveys with error ErrorException(\"UMLS COULD NOT GET\")\n",
      "WARNING: ! failed attempt 1 out of 5 for term Physical Fitness with error ErrorException(\"UMLS COULD NOT GET\")\n",
      "WARNING: ! failed attempt 1 out of 5 for term Female with error ErrorException(\"UMLS COULD NOT GET\")\n",
      "WARNING: ! failed attempt 1 out of 5 for term Prognosis with error ErrorException(\"UMLS COULD NOT GET\")\n",
      "WARNING: ! failed attempt 1 out of 5 for term Incidence with error ErrorException(\"UMLS COULD NOT GET\")\n",
      "WARNING: ! failed attempt 1 out of 5 for term Obesity, Abdominal with error ErrorException(\"UMLS COULD NOT GET\")\n",
      "WARNING: ! failed attempt 1 out of 5 for term Overweight with error ErrorException(\"UMLS COULD NOT GET\")\n",
      "WARNING: ! failed attempt 1 out of 5 for term Biomarkers with error ErrorException(\"UMLS COULD NOT GET\")\n",
      "WARNING: ! failed attempt 1 out of 5 for term C-Reactive Protein with error ErrorException(\"UMLS COULD NOT GET\")\n",
      "WARNING: ! failed attempt 2 out of 5 for term Male with error ErrorException(\"UMLS COULD NOT GET\")\n",
      "WARNING: ! failed attempt 2 out of 5 for term Odds Ratio with error ErrorException(\"UMLS COULD NOT GET\")\n",
      "WARNING: ! failed attempt 2 out of 5 for term Analysis of Variance with error ErrorException(\"UMLS COULD NOT GET\")\n",
      "WARNING: ! failed attempt 2 out of 5 for term Weight Gain with error ErrorException(\"UMLS COULD NOT GET\")\n",
      "WARNING: ! failed attempt 2 out of 5 for term Quality of Life with error ErrorException(\"UMLS COULD NOT GET\")\n",
      "WARNING: ! failed attempt 2 out of 5 for term Obesity with error ErrorException(\"UMLS COULD NOT GET\")\n",
      "WARNING: ! failed attempt 2 out of 5 for term Republic of Korea with error ErrorException(\"UMLS COULD NOT GET\")\n",
      "WARNING: ! failed attempt 2 out of 5 for term Sleep Apnea, Obstructive with error ErrorException(\"UMLS COULD NOT GET\")\n",
      "WARNING: ! failed attempt 2 out of 5 for term Risk Factors with error ErrorException(\"UMLS COULD NOT GET\")\n",
      "WARNING: ! failed attempt 2 out of 5 for term Fatigue with error ErrorException(\"UMLS COULD NOT GET\")\n",
      "WARNING: ! failed attempt 2 out of 5 for term ROC Curve with error ErrorException(\"UMLS COULD NOT GET\")\n",
      "WARNING: ! failed attempt 2 out of 5 for term Sports with error ErrorException(\"UMLS COULD NOT GET\")\n",
      "WARNING: ! failed attempt 2 out of 5 for term Logistic Models with error ErrorException(\"UMLS COULD NOT GET\")\n",
      "WARNING: ! failed attempt 2 out of 5 for term Exercise with error ErrorException(\"UMLS COULD NOT GET\")\n",
      "WARNING: ! failed attempt 2 out of 5 for term Sedentary Lifestyle with error ErrorException(\"UMLS COULD NOT GET\")\n",
      "WARNING: ! failed attempt 2 out of 5 for term Prevalence with error ErrorException(\"UMLS COULD NOT GET\")\n",
      "WARNING: ! failed attempt 2 out of 5 for term Reference Values with error ErrorException(\"UMLS COULD NOT GET\")\n",
      "WARNING: ! failed attempt 2 out of 5 for term Fibromyalgia with error ErrorException(\"UMLS COULD NOT GET\")\n",
      "WARNING: ! failed attempt 2 out of 5 for term Surveys and Questionnaires with error ErrorException(\"UMLS COULD NOT GET\")\n",
      "WARNING: ! failed attempt 2 out of 5 for term Child with error ErrorException(\"UMLS COULD NOT GET\")\n",
      "WARNING: ! failed attempt 2 out of 5 for term Aged with error ErrorException(\"UMLS COULD NOT GET\")\n",
      "WARNING: ! failed attempt 2 out of 5 for term Cross-Sectional Studies with error ErrorException(\"UMLS COULD NOT GET\")\n",
      "WARNING: ! failed attempt 2 out of 5 for term Waist Circumference with error ErrorException(\"UMLS COULD NOT GET\")\n",
      "WARNING: ! failed attempt 2 out of 5 for term Body Mass Index with error ErrorException(\"UMLS COULD NOT GET\")\n",
      "WARNING: ! failed attempt 2 out of 5 for term Japan with error ErrorException(\"UMLS COULD NOT GET\")\n",
      "WARNING: ! failed attempt 2 out of 5 for term Case-Control Studies with error ErrorException(\"UMLS COULD NOT GET\")\n",
      "WARNING: ! failed attempt 2 out of 5 for term Health Status with error ErrorException(\"UMLS COULD NOT GET\")\n",
      "WARNING: ! failed attempt 2 out of 5 for term Television with error ErrorException(\"UMLS COULD NOT GET\")\n",
      "WARNING: ! failed attempt 2 out of 5 for term Prognosis with error ErrorException(\"UMLS COULD NOT GET\")\n",
      "WARNING: ! failed attempt 2 out of 5 for term Severity of Illness Index with error ErrorException(\"UMLS COULD NOT GET\")\n",
      "WARNING: ! failed attempt 2 out of 5 for term Thyrotropin with error ErrorException(\"UMLS COULD NOT GET\")\n",
      "WARNING: ! failed attempt 2 out of 5 for term Pain Measurement with error ErrorException(\"UMLS COULD NOT GET\")\n",
      "WARNING: ! failed attempt 2 out of 5 for term Pediatric Obesity with error ErrorException(\"UMLS COULD NOT GET\")\n",
      "WARNING: ! failed attempt 2 out of 5 for term Humans with error ErrorException(\"UMLS COULD NOT GET\")\n",
      "WARNING: ! failed attempt 2 out of 5 for term Young Adult with error ErrorException(\"UMLS COULD NOT GET\")\n",
      "WARNING: ! failed attempt 2 out of 5 for term Adult with error ErrorException(\"UMLS COULD NOT GET\")\n",
      "WARNING: ! failed attempt 2 out of 5 for term Sex Distribution with error ErrorException(\"UMLS COULD NOT GET\")\n",
      "WARNING: ! failed attempt 2 out of 5 for term Germany with error ErrorException(\"UMLS COULD NOT GET\")\n",
      "WARNING: ! failed attempt 2 out of 5 for term Nutrition Surveys with error ErrorException(\"UMLS COULD NOT GET\")\n",
      "WARNING: ! failed attempt 2 out of 5 for term Body Weight with error ErrorException(\"UMLS COULD NOT GET\")\n",
      "WARNING: ! failed attempt 2 out of 5 for term Middle Aged with error ErrorException(\"UMLS COULD NOT GET\")\n",
      "WARNING: ! failed attempt 2 out of 5 for term Metabolic Syndrome with error ErrorException(\"UMLS COULD NOT GET\")\n",
      "WARNING: ! failed attempt 2 out of 5 for term Age Distribution with error ErrorException(\"UMLS COULD NOT GET\")\n",
      "WARNING: ! failed attempt 2 out of 5 for term Physical Fitness with error ErrorException(\"UMLS COULD NOT GET\")\n",
      "WARNING: ! failed attempt 2 out of 5 for term Pain with error ErrorException(\"UMLS COULD NOT GET\")\n",
      "WARNING: ! failed attempt 2 out of 5 for term Incidence with error ErrorException(\"UMLS COULD NOT GET\")\n",
      "WARNING: ! failed attempt 2 out of 5 for term Obesity, Abdominal with error ErrorException(\"UMLS COULD NOT GET\")\n",
      "WARNING: ! failed attempt 2 out of 5 for term Female with error ErrorException(\"UMLS COULD NOT GET\")\n",
      "WARNING: ! failed attempt 2 out of 5 for term Biomarkers with error ErrorException(\"UMLS COULD NOT GET\")\n",
      "WARNING: ! failed attempt 2 out of 5 for term C-Reactive Protein with error ErrorException(\"UMLS COULD NOT GET\")\n",
      "WARNING: ! failed attempt 2 out of 5 for term Overweight with error ErrorException(\"UMLS COULD NOT GET\")\n",
      "WARNING: ! failed attempt 3 out of 5 for term Republic of Korea with error ErrorException(\"UMLS COULD NOT GET\")\n",
      "WARNING: ! failed attempt 3 out of 5 for term Odds Ratio with error ErrorException(\"UMLS COULD NOT GET\")\n",
      "WARNING: ! failed attempt 3 out of 5 for term Weight Gain with error ErrorException(\"UMLS COULD NOT GET\")\n",
      "WARNING: ! failed attempt 3 out of 5 for term Male with error ErrorException(\"UMLS COULD NOT GET\")\n",
      "WARNING: ! failed attempt 3 out of 5 for term Analysis of Variance with error ErrorException(\"UMLS COULD NOT GET\")\n",
      "WARNING: ! failed attempt 3 out of 5 for term Obesity with error ErrorException(\"UMLS COULD NOT GET\")\n",
      "WARNING: ! failed attempt 3 out of 5 for term Quality of Life with error ErrorException(\"UMLS COULD NOT GET\")\n",
      "WARNING: ! failed attempt 3 out of 5 for term Fatigue with error ErrorException(\"UMLS COULD NOT GET\")\n",
      "WARNING: ! failed attempt 3 out of 5 for term Sleep Apnea, Obstructive with error ErrorException(\"UMLS COULD NOT GET\")\n",
      "WARNING: ! failed attempt 3 out of 5 for term Logistic Models with error ErrorException(\"UMLS COULD NOT GET\")\n",
      "WARNING: ! failed attempt 3 out of 5 for term ROC Curve with error ErrorException(\"UMLS COULD NOT GET\")\n",
      "WARNING: ! failed attempt 3 out of 5 for term Risk Factors with error ErrorException(\"UMLS COULD NOT GET\")\n",
      "WARNING: ! failed attempt 3 out of 5 for term Reference Values with error ErrorException(\"UMLS COULD NOT GET\")\n",
      "WARNING: ! failed attempt 3 out of 5 for term Sports with error ErrorException(\"UMLS COULD NOT GET\")\n",
      "WARNING: ! failed attempt 3 out of 5 for term Sedentary Lifestyle with error ErrorException(\"UMLS COULD NOT GET\")\n",
      "WARNING: ! failed attempt 3 out of 5 for term Cross-Sectional Studies with error ErrorException(\"UMLS COULD NOT GET\")\n",
      "WARNING: ! failed attempt 3 out of 5 for term Exercise with error ErrorException(\"UMLS COULD NOT GET\")\n",
      "WARNING: ! failed attempt 3 out of 5 for term Prevalence with error ErrorException(\"UMLS COULD NOT GET\")\n",
      "WARNING: ! failed attempt 3 out of 5 for term Surveys and Questionnaires with error ErrorException(\"UMLS COULD NOT GET\")\n",
      "WARNING: ! failed attempt 3 out of 5 for term Child with error ErrorException(\"UMLS COULD NOT GET\")\n",
      "WARNING: ! failed attempt 3 out of 5 for term Fibromyalgia with error ErrorException(\"UMLS COULD NOT GET\")\n",
      "WARNING: ! failed attempt 3 out of 5 for term Aged with error ErrorException(\"UMLS COULD NOT GET\")\n",
      "WARNING: ! failed attempt 3 out of 5 for term Waist Circumference with error ErrorException(\"UMLS COULD NOT GET\")\n",
      "WARNING: ! failed attempt 3 out of 5 for term Young Adult with error ErrorException(\"UMLS COULD NOT GET\")\n",
      "WARNING: ! failed attempt 3 out of 5 for term Japan with error ErrorException(\"UMLS COULD NOT GET\")\n",
      "WARNING: ! failed attempt 3 out of 5 for term Body Mass Index with error ErrorException(\"UMLS COULD NOT GET\")\n",
      "WARNING: ! failed attempt 3 out of 5 for term Body Weight with error ErrorException(\"UMLS COULD NOT GET\")\n",
      "WARNING: ! failed attempt 3 out of 5 for term Health Status with error ErrorException(\"UMLS COULD NOT GET\")\n",
      "WARNING: ! failed attempt 3 out of 5 for term Severity of Illness Index with error ErrorException(\"UMLS COULD NOT GET\")\n",
      "WARNING: ! failed attempt 3 out of 5 for term Prognosis with error ErrorException(\"UMLS COULD NOT GET\")\n",
      "WARNING: ! failed attempt 3 out of 5 for term Television with error ErrorException(\"UMLS COULD NOT GET\")\n",
      "WARNING: ! failed attempt 3 out of 5 for term Thyrotropin with error ErrorException(\"UMLS COULD NOT GET\")\n",
      "WARNING: ! failed attempt 3 out of 5 for term Pain Measurement with error ErrorException(\"UMLS COULD NOT GET\")\n",
      "WARNING: ! failed attempt 3 out of 5 for term Case-Control Studies with error ErrorException(\"UMLS COULD NOT GET\")\n",
      "WARNING: ! failed attempt 3 out of 5 for term Pediatric Obesity with error ErrorException(\"UMLS COULD NOT GET\")\n",
      "WARNING: ! failed attempt 3 out of 5 for term Adult with error ErrorException(\"UMLS COULD NOT GET\")\n",
      "WARNING: ! failed attempt 3 out of 5 for term Metabolic Syndrome with error ErrorException(\"UMLS COULD NOT GET\")\n",
      "WARNING: ! failed attempt 3 out of 5 for term Middle Aged with error ErrorException(\"UMLS COULD NOT GET\")\n",
      "WARNING: ! failed attempt 3 out of 5 for term Germany with error ErrorException(\"UMLS COULD NOT GET\")\n",
      "WARNING: ! failed attempt 3 out of 5 for term Humans with error ErrorException(\"UMLS COULD NOT GET\")\n",
      "WARNING: ! failed attempt 3 out of 5 for term Sex Distribution with error ErrorException(\"UMLS COULD NOT GET\")\n",
      "WARNING: ! failed attempt 3 out of 5 for term Nutrition Surveys with error ErrorException(\"UMLS COULD NOT GET\")\n",
      "WARNING: ! failed attempt 3 out of 5 for term Physical Fitness with error ErrorException(\"UMLS COULD NOT GET\")\n",
      "WARNING: ! failed attempt 3 out of 5 for term Incidence with error ErrorException(\"UMLS COULD NOT GET\")\n",
      "WARNING: ! failed attempt 3 out of 5 for term Age Distribution with error ErrorException(\"UMLS COULD NOT GET\")\n",
      "WARNING: ! failed attempt 3 out of 5 for term Biomarkers with error ErrorException(\"UMLS COULD NOT GET\")\n",
      "WARNING: ! failed attempt 3 out of 5 for term C-Reactive Protein with error ErrorException(\"UMLS COULD NOT GET\")\n",
      "WARNING: ! failed attempt 3 out of 5 for term Pain with error ErrorException(\"UMLS COULD NOT GET\")\n",
      "WARNING: ! failed attempt 3 out of 5 for term Obesity, Abdominal with error ErrorException(\"UMLS COULD NOT GET\")\n",
      "WARNING: ! failed attempt 4 out of 5 for term Analysis of Variance with error ErrorException(\"UMLS COULD NOT GET\")\n",
      "WARNING: ! failed attempt 3 out of 5 for term Overweight with error ErrorException(\"UMLS COULD NOT GET\")\n",
      "WARNING: ! failed attempt 3 out of 5 for term Female with error ErrorException(\"UMLS COULD NOT GET\")\n",
      "WARNING: ! failed attempt 4 out of 5 for term Weight Gain with error ErrorException(\"UMLS COULD NOT GET\")\n",
      "WARNING: ! failed attempt 4 out of 5 for term Odds Ratio with error ErrorException(\"UMLS COULD NOT GET\")\n",
      "WARNING: ! failed attempt 4 out of 5 for term Republic of Korea with error ErrorException(\"UMLS COULD NOT GET\")\n",
      "WARNING: ! failed attempt 4 out of 5 for term Obesity with error ErrorException(\"UMLS COULD NOT GET\")\n",
      "WARNING: ! failed attempt 4 out of 5 for term Male with error ErrorException(\"UMLS COULD NOT GET\")\n",
      "WARNING: ! failed attempt 4 out of 5 for term Quality of Life with error ErrorException(\"UMLS COULD NOT GET\")\n",
      "WARNING: ! failed attempt 4 out of 5 for term Fatigue with error ErrorException(\"UMLS COULD NOT GET\")\n",
      "WARNING: ! failed attempt 4 out of 5 for term Sleep Apnea, Obstructive with error ErrorException(\"UMLS COULD NOT GET\")\n",
      "WARNING: ! failed attempt 4 out of 5 for term Logistic Models with error ErrorException(\"UMLS COULD NOT GET\")\n",
      "WARNING: ! failed attempt 4 out of 5 for term ROC Curve with error ErrorException(\"UMLS COULD NOT GET\")\n",
      "WARNING: ! failed attempt 4 out of 5 for term Sports with error ErrorException(\"UMLS COULD NOT GET\")\n",
      "WARNING: ! failed attempt 4 out of 5 for term Risk Factors with error ErrorException(\"UMLS COULD NOT GET\")\n",
      "WARNING: ! failed attempt 4 out of 5 for term Reference Values with error ErrorException(\"UMLS COULD NOT GET\")\n",
      "WARNING: ! failed attempt 4 out of 5 for term Fibromyalgia with error ErrorException(\"UMLS COULD NOT GET\")\n",
      "WARNING: ! failed attempt 4 out of 5 for term Sedentary Lifestyle with error ErrorException(\"UMLS COULD NOT GET\")\n",
      "WARNING: ! failed attempt 4 out of 5 for term Cross-Sectional Studies with error ErrorException(\"UMLS COULD NOT GET\")\n",
      "WARNING: ! failed attempt 4 out of 5 for term Exercise with error ErrorException(\"UMLS COULD NOT GET\")\n",
      "WARNING: ! failed attempt 4 out of 5 for term Prevalence with error ErrorException(\"UMLS COULD NOT GET\")\n",
      "WARNING: ! failed attempt 4 out of 5 for term Child with error ErrorException(\"UMLS COULD NOT GET\")\n",
      "WARNING: ! failed attempt 4 out of 5 for term Surveys and Questionnaires with error ErrorException(\"UMLS COULD NOT GET\")\n",
      "WARNING: ! failed attempt 4 out of 5 for term Young Adult with error ErrorException(\"UMLS COULD NOT GET\")\n",
      "WARNING: ! failed attempt 4 out of 5 for term Middle Aged with error ErrorException(\"UMLS COULD NOT GET\")\n",
      "WARNING: ! failed attempt 4 out of 5 for term Pediatric Obesity with error ErrorException(\"UMLS COULD NOT GET\")\n",
      "WARNING: ! failed attempt 4 out of 5 for term Japan with error ErrorException(\"UMLS COULD NOT GET\")\n",
      "WARNING: ! failed attempt 4 out of 5 for term Aged with error ErrorException(\"UMLS COULD NOT GET\")\n",
      "WARNING: ! failed attempt 4 out of 5 for term Adult with error ErrorException(\"UMLS COULD NOT GET\")\n",
      "WARNING: ! failed attempt 4 out of 5 for term Body Mass Index with error ErrorException(\"UMLS COULD NOT GET\")\n",
      "WARNING: ! failed attempt 4 out of 5 for term Waist Circumference with error ErrorException(\"UMLS COULD NOT GET\")\n",
      "WARNING: ! failed attempt 4 out of 5 for term Body Weight with error ErrorException(\"UMLS COULD NOT GET\")\n",
      "WARNING: ! failed attempt 4 out of 5 for term Health Status with error ErrorException(\"UMLS COULD NOT GET\")\n",
      "WARNING: ! failed attempt 4 out of 5 for term Severity of Illness Index with error ErrorException(\"UMLS COULD NOT GET\")\n",
      "WARNING: ! failed attempt 4 out of 5 for term Sex Distribution with error ErrorException(\"UMLS COULD NOT GET\")\n",
      "WARNING: ! failed attempt 4 out of 5 for term Thyrotropin with error ErrorException(\"UMLS COULD NOT GET\")\n",
      "WARNING: ! failed attempt 4 out of 5 for term Prognosis with error ErrorException(\"UMLS COULD NOT GET\")\n",
      "WARNING: ! failed attempt 4 out of 5 for term Television with error ErrorException(\"UMLS COULD NOT GET\")\n",
      "WARNING: ! failed attempt 4 out of 5 for term Pain Measurement with error ErrorException(\"UMLS COULD NOT GET\")\n",
      "WARNING: ! failed attempt 4 out of 5 for term Case-Control Studies with error ErrorException(\"UMLS COULD NOT GET\")\n",
      "WARNING: ! failed attempt 4 out of 5 for term Germany with error ErrorException(\"UMLS COULD NOT GET\")\n",
      "WARNING: ! failed attempt 4 out of 5 for term Physical Fitness with error ErrorException(\"UMLS COULD NOT GET\")\n",
      "WARNING: ! failed attempt 4 out of 5 for term Nutrition Surveys with error ErrorException(\"UMLS COULD NOT GET\")\n",
      "WARNING: ! failed attempt 4 out of 5 for term Age Distribution with error ErrorException(\"UMLS COULD NOT GET\")\n",
      "WARNING: ! failed attempt 4 out of 5 for term Humans with error ErrorException(\"UMLS COULD NOT GET\")\n",
      "WARNING: ! failed attempt 4 out of 5 for term Metabolic Syndrome with error ErrorException(\"UMLS COULD NOT GET\")\n",
      "WARNING: ! failed attempt 4 out of 5 for term Incidence with error ErrorException(\"UMLS COULD NOT GET\")\n",
      "WARNING: ! failed attempt 4 out of 5 for term Pain with error ErrorException(\"UMLS COULD NOT GET\")\n",
      "WARNING: ! failed attempt 4 out of 5 for term C-Reactive Protein with error ErrorException(\"UMLS COULD NOT GET\")\n",
      "WARNING: ! failed attempt 4 out of 5 for term Obesity, Abdominal with error ErrorException(\"UMLS COULD NOT GET\")\n",
      "WARNING: ! failed attempt 4 out of 5 for term Biomarkers with error ErrorException(\"UMLS COULD NOT GET\")\n",
      "WARNING: ! failed attempt 5 out of 5 for term Republic of Korea with error ErrorException(\"UMLS COULD NOT GET\")\n",
      "WARNING: ! failed attempt 4 out of 5 for term Overweight with error ErrorException(\"UMLS COULD NOT GET\")\n",
      "WARNING: ! failed attempt 5 out of 5 for term Analysis of Variance with error ErrorException(\"UMLS COULD NOT GET\")\n",
      "WARNING: ! failed attempt 5 out of 5 for term Weight Gain with error ErrorException(\"UMLS COULD NOT GET\")\n",
      "WARNING: ! failed attempt 4 out of 5 for term Female with error ErrorException(\"UMLS COULD NOT GET\")\n",
      "WARNING: ! failed attempt 5 out of 5 for term Obesity with error ErrorException(\"UMLS COULD NOT GET\")\n",
      "WARNING: ! failed attempt 5 out of 5 for term Logistic Models with error ErrorException(\"UMLS COULD NOT GET\")\n",
      "WARNING: ! failed attempt 5 out of 5 for term Odds Ratio with error ErrorException(\"UMLS COULD NOT GET\")\n",
      "WARNING: ! failed attempt 5 out of 5 for term Male with error ErrorException(\"UMLS COULD NOT GET\")\n",
      "WARNING: ! failed attempt 5 out of 5 for term Fatigue with error ErrorException(\"UMLS COULD NOT GET\")\n",
      "WARNING: ! failed attempt 5 out of 5 for term Quality of Life with error ErrorException(\"UMLS COULD NOT GET\")\n",
      "WARNING: ! failed attempt 5 out of 5 for term Sleep Apnea, Obstructive with error ErrorException(\"UMLS COULD NOT GET\")\n",
      "WARNING: ! failed attempt 5 out of 5 for term Reference Values with error ErrorException(\"UMLS COULD NOT GET\")\n",
      "WARNING: ! failed attempt 5 out of 5 for term Fibromyalgia with error ErrorException(\"UMLS COULD NOT GET\")\n",
      "WARNING: ! failed attempt 5 out of 5 for term Cross-Sectional Studies with error ErrorException(\"UMLS COULD NOT GET\")\n",
      "WARNING: ! failed attempt 5 out of 5 for term ROC Curve with error ErrorException(\"UMLS COULD NOT GET\")\n",
      "WARNING: ! failed attempt 5 out of 5 for term Sports with error ErrorException(\"UMLS COULD NOT GET\")\n",
      "WARNING: ! failed attempt 5 out of 5 for term Risk Factors with error ErrorException(\"UMLS COULD NOT GET\")\n",
      "WARNING: ! failed attempt 5 out of 5 for term Sedentary Lifestyle with error ErrorException(\"UMLS COULD NOT GET\")\n",
      "WARNING: ! failed attempt 5 out of 5 for term Prevalence with error ErrorException(\"UMLS COULD NOT GET\")\n",
      "WARNING: ! failed attempt 5 out of 5 for term Exercise with error ErrorException(\"UMLS COULD NOT GET\")\n",
      "WARNING: ! failed attempt 5 out of 5 for term Child with error ErrorException(\"UMLS COULD NOT GET\")\n",
      "WARNING: ! failed attempt 5 out of 5 for term Young Adult with error ErrorException(\"UMLS COULD NOT GET\")\n",
      "WARNING: ! failed attempt 5 out of 5 for term Sex Distribution with error ErrorException(\"UMLS COULD NOT GET\")\n",
      "WARNING: ! failed attempt 5 out of 5 for term Surveys and Questionnaires with error ErrorException(\"UMLS COULD NOT GET\")\n",
      "WARNING: ! failed attempt 5 out of 5 for term Japan with error ErrorException(\"UMLS COULD NOT GET\")\n",
      "WARNING: ! failed attempt 5 out of 5 for term Waist Circumference with error ErrorException(\"UMLS COULD NOT GET\")\n",
      "WARNING: ! failed attempt 5 out of 5 for term Adult with error ErrorException(\"UMLS COULD NOT GET\")\n",
      "WARNING: ! failed attempt 5 out of 5 for term Aged with error ErrorException(\"UMLS COULD NOT GET\")\n",
      "WARNING: ! failed attempt 5 out of 5 for term Pediatric Obesity with error ErrorException(\"UMLS COULD NOT GET\")\n",
      "WARNING: ! failed attempt 5 out of 5 for term Middle Aged with error ErrorException(\"UMLS COULD NOT GET\")\n",
      "WARNING: ! failed attempt 5 out of 5 for term Body Mass Index with error ErrorException(\"UMLS COULD NOT GET\")\n",
      "WARNING: ! failed attempt 5 out of 5 for term Body Weight with error ErrorException(\"UMLS COULD NOT GET\")\n",
      "WARNING: ! failed attempt 5 out of 5 for term Health Status with error ErrorException(\"UMLS COULD NOT GET\")\n",
      "WARNING: ! failed attempt 5 out of 5 for term Prognosis with error ErrorException(\"UMLS COULD NOT GET\")\n",
      "WARNING: ! failed attempt 5 out of 5 for term Thyrotropin with error ErrorException(\"UMLS COULD NOT GET\")\n",
      "WARNING: ! failed attempt 5 out of 5 for term Pain Measurement with error ErrorException(\"UMLS COULD NOT GET\")\n",
      "WARNING: ! failed attempt 5 out of 5 for term Physical Fitness with error ErrorException(\"UMLS COULD NOT GET\")\n",
      "WARNING: ! failed attempt 5 out of 5 for term Severity of Illness Index with error ErrorException(\"UMLS COULD NOT GET\")\n",
      "WARNING: ! failed attempt 5 out of 5 for term Case-Control Studies with error ErrorException(\"UMLS COULD NOT GET\")\n",
      "WARNING: ! failed attempt 5 out of 5 for term Television with error ErrorException(\"UMLS COULD NOT GET\")\n",
      "WARNING: ! failed attempt 5 out of 5 for term Nutrition Surveys with error ErrorException(\"UMLS COULD NOT GET\")\n",
      "WARNING: ! failed attempt 5 out of 5 for term Metabolic Syndrome with error ErrorException(\"UMLS COULD NOT GET\")\n",
      "WARNING: ! failed attempt 5 out of 5 for term Pain with error ErrorException(\"UMLS COULD NOT GET\")\n",
      "WARNING: ! failed attempt 5 out of 5 for term Overweight with error ErrorException(\"UMLS COULD NOT GET\")\n",
      "WARNING: ! failed attempt 5 out of 5 for term Obesity, Abdominal with error ErrorException(\"UMLS COULD NOT GET\")\n",
      "WARNING: ! failed attempt 5 out of 5 for term Incidence with error ErrorException(\"UMLS COULD NOT GET\")\n",
      "WARNING: ! failed attempt 5 out of 5 for term Humans with error ErrorException(\"UMLS COULD NOT GET\")\n",
      "WARNING: ! failed attempt 5 out of 5 for term Age Distribution with error ErrorException(\"UMLS COULD NOT GET\")\n",
      "WARNING: ! failed attempt 5 out of 5 for term Biomarkers with error ErrorException(\"UMLS COULD NOT GET\")\n",
      "WARNING: ! failed attempt 5 out of 5 for term Germany with error ErrorException(\"UMLS COULD NOT GET\")\n",
      "WARNING: ! failed attempt 5 out of 5 for term C-Reactive Protein with error ErrorException(\"UMLS COULD NOT GET\")\n",
      "WARNING: ! failed attempt 5 out of 5 for term Female with error ErrorException(\"UMLS COULD NOT GET\")\n",
      "WARNING: ! failed attempt 1 out of 5 for term C-Reactive Protein with error ErrorException(\"UMLS COULD NOT GET\")\n",
      "WARNING: ! failed attempt 1 out of 5 for term Aged, 80 and over with error ErrorException(\"UMLS COULD NOT GET\")\n",
      "WARNING: ! failed attempt 2 out of 5 for term C-Reactive Protein with error ErrorException(\"UMLS COULD NOT GET\")\n",
      "WARNING: ! failed attempt 2 out of 5 for term Aged, 80 and over with error ErrorException(\"UMLS COULD NOT GET\")\n",
      "WARNING: ! failed attempt 3 out of 5 for term Aged, 80 and over with error ErrorException(\"UMLS COULD NOT GET\")\n",
      "WARNING: ! failed attempt 3 out of 5 for term C-Reactive Protein with error ErrorException(\"UMLS COULD NOT GET\")\n",
      "WARNING: ! failed attempt 4 out of 5 for term Aged, 80 and over with error ErrorException(\"UMLS COULD NOT GET\")\n",
      "WARNING: ! failed attempt 4 out of 5 for term C-Reactive Protein with error ErrorException(\"UMLS COULD NOT GET\")\n",
      "WARNING: ! failed attempt 5 out of 5 for term C-Reactive Protein with error ErrorException(\"UMLS COULD NOT GET\")\n",
      "WARNING: ! failed attempt 5 out of 5 for term Aged, 80 and over with error ErrorException(\"UMLS COULD NOT GET\")\n",
      "201.797513 seconds (1.85 M allocations: 230.665 MiB, 0.05% gc time)\n"
     ]
    },
    {
     "output_type": "execute_result",
     "data": {
      "text/plain": "0×2 DataFrames.DataFrame\n",
      "text/html": [
       "<table class=\"data-frame\"><thead><tr><th></th><th>descriptor</th><th>concept</th></tr></thead><tbody></tbody></table>"
      ]
     },
     "metadata": {},
     "execution_count": 16
    }
   ],
   "cell_type": "code",
   "source": [
    "@time res = map_mesh_to_umls_async(dfs[\"mesh_desc\"], umls_user, umls_pswd)"
   ],
   "metadata": {},
   "execution_count": 16
  },
  {
   "outputs": [],
   "cell_type": "markdown",
   "source": [
    "Getting the descriptor to index dictionary and occurence matrix"
   ],
   "metadata": {}
  },
  {
   "outputs": [
    {
     "name": "stdout",
     "output_type": "stream",
     "text": [
      "-------------------------------------------------------------\n",
      "Found 0 articles with valid descriptors\n",
      "-------------------------------------------------------------\n",
      "  0.270515 seconds (164.13 k allocations: 8.419 MiB)\n"
     ]
    }
   ],
   "cell_type": "code",
   "source": [
    "@time labels2ind, occur = umls_semantic_occurrences(dfs, res, umls_concept);"
   ],
   "metadata": {},
   "execution_count": 17
  },
  {
   "outputs": [],
   "cell_type": "markdown",
   "source": [
    "Descriptor to Index Dictionary"
   ],
   "metadata": {}
  },
  {
   "outputs": [
    {
     "output_type": "execute_result",
     "data": {
      "text/plain": "Dict{String,Int64} with 0 entries"
     },
     "metadata": {},
     "execution_count": 18
    }
   ],
   "cell_type": "code",
   "source": [
    "labels2ind"
   ],
   "metadata": {},
   "execution_count": 18
  },
  {
   "outputs": [],
   "cell_type": "markdown",
   "source": [
    "Output Data Matrix"
   ],
   "metadata": {}
  },
  {
   "outputs": [
    {
     "output_type": "execute_result",
     "data": {
      "text/plain": "0×5 Array{Float64,2}"
     },
     "metadata": {},
     "execution_count": 19
    }
   ],
   "cell_type": "code",
   "source": [
    "full(occur)"
   ],
   "metadata": {},
   "execution_count": 19
  },
  {
   "outputs": [],
   "cell_type": "markdown",
   "source": [
    "*This notebook was generated using [Literate.jl](https://github.com/fredrikekre/Literate.jl).*"
   ],
   "metadata": {}
  }
 ],
 "nbformat_minor": 3,
 "metadata": {
  "language_info": {
   "file_extension": ".jl",
   "mimetype": "application/julia",
   "name": "julia",
   "version": "0.6.3"
  },
  "kernelspec": {
   "name": "julia-0.6",
   "display_name": "Julia 0.6.3",
   "language": "julia"
  }
 },
 "nbformat": 4
}
