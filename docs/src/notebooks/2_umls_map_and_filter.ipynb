{
 "cells": [
  {
   "outputs": [],
   "cell_type": "markdown",
   "source": [
    "# Using UMLS Concepts with MeSH"
   ],
   "metadata": {}
  },
  {
   "outputs": [],
   "cell_type": "markdown",
   "source": [
    "The Medical Subject Headings (MeSH) terms returned from a PubMed search can be further analyzed\n",
    "by mapping them to Unified Medical Language System (UMLS) concepts, as well as\n",
    "filtering the MeSH Terms by concepts."
   ],
   "metadata": {}
  },
  {
   "outputs": [],
   "cell_type": "markdown",
   "source": [
    "For both mapping MeSH to UMLS Concepts and filtering MeSH by concept, the following backends are supported:\n",
    "* MySQL\n",
    "* SQLite\n",
    "* DataFrames"
   ],
   "metadata": {}
  },
  {
   "outputs": [],
   "cell_type": "markdown",
   "source": [
    "### Set Up"
   ],
   "metadata": {}
  },
  {
   "outputs": [],
   "cell_type": "code",
   "source": [
    "using SQLite\n",
    "using MySQL\n",
    "using BioMedQuery.DBUtils\n",
    "using BioMedQuery.Processes\n",
    "using BioServices.UMLS\n",
    "using BioMedQuery.PubMed\n",
    "using DataFrames"
   ],
   "metadata": {},
   "execution_count": null
  },
  {
   "outputs": [],
   "cell_type": "markdown",
   "source": [
    "Credentials are environment variables (e.g set in your .juliarc.jl)"
   ],
   "metadata": {}
  },
  {
   "outputs": [],
   "cell_type": "code",
   "source": [
    "umls_user = ENV[\"UMLS_USER\"];\n",
    "umls_pswd = ENV[\"UMLS_PSSWD\"];\n",
    "email = \"\"; # Only needed if you want to contact NCBI with inqueries\n",
    "search_term = \"\"\"(obesity[MeSH Major Topic]) AND (\"2010\"[Date - Publication] : \"2012\"[Date - Publication])\"\"\";\n",
    "umls_concept = \"Disease or Syndrome\";\n",
    "max_articles = 5;\n",
    "results_dir = \".\";\n",
    "verbose = true;\n",
    "\n",
    "results_dir = \".\";"
   ],
   "metadata": {},
   "execution_count": null
  },
  {
   "outputs": [],
   "cell_type": "markdown",
   "source": [
    "## MySQL"
   ],
   "metadata": {}
  },
  {
   "outputs": [],
   "cell_type": "markdown",
   "source": [
    "### Map Medical Subject Headings (MeSH) to UMLS"
   ],
   "metadata": {}
  },
  {
   "outputs": [],
   "cell_type": "markdown",
   "source": [
    "This example demonstrates the typical workflow to populate a MESH2UMLS database\n",
    "table relating all concepts associated with all MeSH terms in the input database."
   ],
   "metadata": {}
  },
  {
   "outputs": [],
   "cell_type": "markdown",
   "source": [
    "*Note: this example reuses the MySQL DB from the PubMed Search and Save example.*\n",
    "\n",
    "Create MySQL DB connection"
   ],
   "metadata": {}
  },
  {
   "outputs": [],
   "cell_type": "code",
   "source": [
    "host = \"127.0.0.1\";\n",
    "mysql_usr = \"root\";\n",
    "mysql_pswd = \"\";\n",
    "dbname = \"pubmed_obesity_2010_2012\";\n",
    "\n",
    "db_mysql = MySQL.connect(host, mysql_usr, mysql_pswd, db = dbname);"
   ],
   "metadata": {},
   "execution_count": null
  },
  {
   "outputs": [],
   "cell_type": "markdown",
   "source": [
    "Map MeSH to UMLS"
   ],
   "metadata": {}
  },
  {
   "outputs": [],
   "cell_type": "code",
   "source": [
    "@time map_mesh_to_umls_async!(db_mysql, umls_user, umls_pswd; append_results=false, timeout=3);"
   ],
   "metadata": {},
   "execution_count": null
  },
  {
   "outputs": [],
   "cell_type": "markdown",
   "source": [
    "#### Explore the output table"
   ],
   "metadata": {}
  },
  {
   "outputs": [],
   "cell_type": "code",
   "source": [
    "db_query(db_mysql, \"SELECT * FROM mesh2umls\")"
   ],
   "metadata": {},
   "execution_count": null
  },
  {
   "outputs": [],
   "cell_type": "markdown",
   "source": [
    "### Filtering MeSH terms by UMLS concept"
   ],
   "metadata": {}
  },
  {
   "outputs": [],
   "cell_type": "markdown",
   "source": [
    "Getting the descriptor to index dictionary and the occurence matrix"
   ],
   "metadata": {}
  },
  {
   "outputs": [],
   "cell_type": "code",
   "source": [
    "@time labels2ind, occur = umls_semantic_occurrences(db_mysql, umls_concept);"
   ],
   "metadata": {},
   "execution_count": null
  },
  {
   "outputs": [],
   "cell_type": "markdown",
   "source": [
    "Descriptor to Index Dictionary"
   ],
   "metadata": {}
  },
  {
   "outputs": [],
   "cell_type": "code",
   "source": [
    "labels2ind"
   ],
   "metadata": {},
   "execution_count": null
  },
  {
   "outputs": [],
   "cell_type": "markdown",
   "source": [
    "Output Data Matrix"
   ],
   "metadata": {}
  },
  {
   "outputs": [],
   "cell_type": "code",
   "source": [
    "Matrix(occur)"
   ],
   "metadata": {},
   "execution_count": null
  },
  {
   "outputs": [],
   "cell_type": "markdown",
   "source": [
    "## SQLite"
   ],
   "metadata": {}
  },
  {
   "outputs": [],
   "cell_type": "markdown",
   "source": [
    "This example demonstrates the typical workflow to populate a MESH2UMLS database\n",
    "table relating all concepts associated with all MeSH terms in the input database."
   ],
   "metadata": {}
  },
  {
   "outputs": [],
   "cell_type": "markdown",
   "source": [
    "*Note: this example reuses the SQLite DB from the PubMed Search and Save example.*\n",
    "\n",
    "Create SQLite DB connection"
   ],
   "metadata": {}
  },
  {
   "outputs": [],
   "cell_type": "code",
   "source": [
    "db_path = \"$(results_dir)/pubmed_obesity_2010_2012.db\";\n",
    "db_sqlite = SQLite.DB(db_path);\n",
    "\n",
    "if isfile(db_path) # hide\n",
    "    rm(db_path) # hide\n",
    "end # hide\n",
    "db_sqlite = SQLite.DB(db_path); # hide\n",
    "PubMed.create_tables!(db_sqlite); # hide\n",
    "Processes.pubmed_search_and_save!(email, search_term, max_articles, db_sqlite, false) # hide"
   ],
   "metadata": {},
   "execution_count": null
  },
  {
   "outputs": [],
   "cell_type": "markdown",
   "source": [
    "### Map MeSH to UMLS"
   ],
   "metadata": {}
  },
  {
   "outputs": [],
   "cell_type": "code",
   "source": [
    "@time map_mesh_to_umls_async!(db_sqlite, umls_user, umls_pswd; append_results=false, timeout=3);"
   ],
   "metadata": {},
   "execution_count": null
  },
  {
   "outputs": [],
   "cell_type": "markdown",
   "source": [
    "Explore the output table"
   ],
   "metadata": {}
  },
  {
   "outputs": [],
   "cell_type": "code",
   "source": [
    "db_query(db_sqlite, \"SELECT * FROM mesh2umls;\")"
   ],
   "metadata": {},
   "execution_count": null
  },
  {
   "outputs": [],
   "cell_type": "markdown",
   "source": [
    "### Filtering MeSH terms by UMLS concept"
   ],
   "metadata": {}
  },
  {
   "outputs": [],
   "cell_type": "markdown",
   "source": [
    "Getting the descriptor to index dictionary and occurence matrix"
   ],
   "metadata": {}
  },
  {
   "outputs": [],
   "cell_type": "code",
   "source": [
    "@time labels2ind, occur = umls_semantic_occurrences(db_sqlite, umls_concept);"
   ],
   "metadata": {},
   "execution_count": null
  },
  {
   "outputs": [],
   "cell_type": "markdown",
   "source": [
    "Descriptor to Index Dictionary"
   ],
   "metadata": {}
  },
  {
   "outputs": [],
   "cell_type": "code",
   "source": [
    "labels2ind"
   ],
   "metadata": {},
   "execution_count": null
  },
  {
   "outputs": [],
   "cell_type": "markdown",
   "source": [
    "Output Data Matrix"
   ],
   "metadata": {}
  },
  {
   "outputs": [],
   "cell_type": "code",
   "source": [
    "Matrix(occur)"
   ],
   "metadata": {},
   "execution_count": null
  },
  {
   "outputs": [],
   "cell_type": "markdown",
   "source": [
    "## DataFrames"
   ],
   "metadata": {}
  },
  {
   "outputs": [],
   "cell_type": "markdown",
   "source": [
    "This example demonstrates the typical workflow to create a MeSH to UMLS map as a DataFrame\n",
    "relating all concepts associated with all MeSH terms in the input dataframe."
   ],
   "metadata": {}
  },
  {
   "outputs": [],
   "cell_type": "markdown",
   "source": [
    "Get the articles (same as example in PubMed Search and Parse)"
   ],
   "metadata": {}
  },
  {
   "outputs": [],
   "cell_type": "code",
   "source": [
    "dfs = Processes.pubmed_search_and_parse(email, search_term, max_articles, verbose)"
   ],
   "metadata": {},
   "execution_count": null
  },
  {
   "outputs": [],
   "cell_type": "markdown",
   "source": [
    "Map MeSH to UMLS and explore the output table"
   ],
   "metadata": {}
  },
  {
   "outputs": [],
   "cell_type": "code",
   "source": [
    "@time res = map_mesh_to_umls_async(dfs[\"mesh_desc\"], umls_user, umls_pswd)"
   ],
   "metadata": {},
   "execution_count": null
  },
  {
   "outputs": [],
   "cell_type": "markdown",
   "source": [
    "Getting the descriptor to index dictionary and occurence matrix"
   ],
   "metadata": {}
  },
  {
   "outputs": [],
   "cell_type": "code",
   "source": [
    "@time labels2ind, occur = umls_semantic_occurrences(dfs, res, umls_concept);"
   ],
   "metadata": {},
   "execution_count": null
  },
  {
   "outputs": [],
   "cell_type": "markdown",
   "source": [
    "Descriptor to Index Dictionary"
   ],
   "metadata": {}
  },
  {
   "outputs": [],
   "cell_type": "code",
   "source": [
    "labels2ind"
   ],
   "metadata": {},
   "execution_count": null
  },
  {
   "outputs": [],
   "cell_type": "markdown",
   "source": [
    "Output Data Matrix"
   ],
   "metadata": {}
  },
  {
   "outputs": [],
   "cell_type": "code",
   "source": [
    "Matrix(occur)"
   ],
   "metadata": {},
   "execution_count": null
  },
  {
   "outputs": [],
   "cell_type": "markdown",
   "source": [
    "*This notebook was generated using [Literate.jl](https://github.com/fredrikekre/Literate.jl).*"
   ],
   "metadata": {}
  }
 ],
 "nbformat_minor": 3,
 "metadata": {
  "language_info": {
   "file_extension": ".jl",
   "mimetype": "application/julia",
   "name": "julia",
   "version": "0.7.0"
  },
  "kernelspec": {
   "name": "julia-0.7",
   "display_name": "Julia 0.7.0",
   "language": "julia"
  }
 },
 "nbformat": 4
}
