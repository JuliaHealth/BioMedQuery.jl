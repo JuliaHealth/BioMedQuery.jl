{
 "cells": [
  {
   "outputs": [],
   "cell_type": "markdown",
   "source": [
    "# Search PubMed and Save Results"
   ],
   "metadata": {}
  },
  {
   "outputs": [],
   "cell_type": "markdown",
   "source": [
    "This example demonstrates the typical workflow to query pubmed and store\n",
    "the results. The following backends are supported for storing the results:\n",
    "* MySQL\n",
    "* SQLite\n",
    "* Citation (endnote/bibtex)\n",
    "* DataFrames"
   ],
   "metadata": {}
  },
  {
   "outputs": [],
   "cell_type": "markdown",
   "source": [
    "### Set Up"
   ],
   "metadata": {}
  },
  {
   "outputs": [],
   "cell_type": "code",
   "source": [
    "using BioMedQuery.DBUtils\n",
    "using BioMedQuery.PubMed\n",
    "using BioMedQuery.Processes\n",
    "using DataFrames\n",
    "using MySQL\n",
    "using SQLite"
   ],
   "metadata": {},
   "execution_count": null
  },
  {
   "outputs": [],
   "cell_type": "markdown",
   "source": [
    "Variables used to search PubMed"
   ],
   "metadata": {}
  },
  {
   "outputs": [],
   "cell_type": "code",
   "source": [
    "email = \"\"; # Only needed if you want to contact NCBI with inqueries\n",
    "search_term = \"\"\"(obesity[MeSH Major Topic]) AND (\"2010\"[Date - Publication] : \"2012\"[Date - Publication])\"\"\";\n",
    "max_articles = 5;\n",
    "results_dir = \".\";\n",
    "verbose = true;"
   ],
   "metadata": {},
   "execution_count": null
  },
  {
   "outputs": [],
   "cell_type": "markdown",
   "source": [
    "### MySQL backend"
   ],
   "metadata": {}
  },
  {
   "outputs": [],
   "cell_type": "markdown",
   "source": [
    "Initialize database, if it exists it connects to it, otherwise it creates it"
   ],
   "metadata": {}
  },
  {
   "outputs": [],
   "cell_type": "code",
   "source": [
    "const mysql_conn = DBUtils.init_mysql_database(\"127.0.0.1\", \"root\", \"\", \"pubmed_obesity_2010_2012\");"
   ],
   "metadata": {},
   "execution_count": null
  },
  {
   "outputs": [],
   "cell_type": "markdown",
   "source": [
    "Creates (and deletes if they already exist) all tables needed to save a pubmed search"
   ],
   "metadata": {}
  },
  {
   "outputs": [],
   "cell_type": "code",
   "source": [
    "PubMed.create_tables!(mysql_conn);"
   ],
   "metadata": {},
   "execution_count": null
  },
  {
   "outputs": [],
   "cell_type": "markdown",
   "source": [
    "Search pubmed and save results to database"
   ],
   "metadata": {}
  },
  {
   "outputs": [],
   "cell_type": "code",
   "source": [
    "Processes.pubmed_search_and_save!(email, search_term, max_articles, mysql_conn, verbose)"
   ],
   "metadata": {},
   "execution_count": null
  },
  {
   "outputs": [],
   "cell_type": "markdown",
   "source": [
    "#### Access all PMIDs"
   ],
   "metadata": {}
  },
  {
   "outputs": [],
   "cell_type": "code",
   "source": [
    "all_pmids(mysql_conn)"
   ],
   "metadata": {},
   "execution_count": null
  },
  {
   "outputs": [],
   "cell_type": "markdown",
   "source": [
    "#### Explore tables\n",
    "You may use the MySQL command directly. If you want the return type to be a DataFrame, you need to explicitly request so."
   ],
   "metadata": {}
  },
  {
   "outputs": [],
   "cell_type": "code",
   "source": [
    "tables = [\"author_ref\", \"mesh_desc\", \"mesh_qual\", \"mesh_heading\"]\n",
    "for t in tables\n",
    "    query_str = \"SELECT * FROM $t LIMIT 5;\"\n",
    "    q = MySQL.query(mysql_conn, query_str, DataFrame)\n",
    "    println(q)\n",
    "end"
   ],
   "metadata": {},
   "execution_count": null
  },
  {
   "outputs": [],
   "cell_type": "code",
   "source": [
    "MySQL.disconnect(mysql_conn);"
   ],
   "metadata": {},
   "execution_count": null
  },
  {
   "outputs": [],
   "cell_type": "markdown",
   "source": [
    "### SQLite backend"
   ],
   "metadata": {}
  },
  {
   "outputs": [],
   "cell_type": "code",
   "source": [
    "const db_path = \"$(results_dir)/pubmed_obesity_2010_2012.db\";"
   ],
   "metadata": {},
   "execution_count": null
  },
  {
   "outputs": [],
   "cell_type": "markdown",
   "source": [
    "Overwrite the database if it already exists"
   ],
   "metadata": {}
  },
  {
   "outputs": [],
   "cell_type": "code",
   "source": [
    "if isfile(db_path)\n",
    "    rm(db_path)\n",
    "end"
   ],
   "metadata": {},
   "execution_count": null
  },
  {
   "outputs": [],
   "cell_type": "markdown",
   "source": [
    "Connect to the database"
   ],
   "metadata": {}
  },
  {
   "outputs": [],
   "cell_type": "code",
   "source": [
    "const conn_sqlite = SQLite.DB(db_path);"
   ],
   "metadata": {},
   "execution_count": null
  },
  {
   "outputs": [],
   "cell_type": "markdown",
   "source": [
    "Creates (and deletes if they already exist) all tables needed to save a pubmed search"
   ],
   "metadata": {}
  },
  {
   "outputs": [],
   "cell_type": "code",
   "source": [
    "PubMed.create_tables!(conn_sqlite);"
   ],
   "metadata": {},
   "execution_count": null
  },
  {
   "outputs": [],
   "cell_type": "markdown",
   "source": [
    "Search PubMed and save the results"
   ],
   "metadata": {}
  },
  {
   "outputs": [],
   "cell_type": "code",
   "source": [
    "Processes.pubmed_search_and_save!(email, search_term, max_articles, conn_sqlite, verbose)"
   ],
   "metadata": {},
   "execution_count": null
  },
  {
   "outputs": [],
   "cell_type": "markdown",
   "source": [
    "#### Access all PMIDs"
   ],
   "metadata": {}
  },
  {
   "outputs": [],
   "cell_type": "code",
   "source": [
    "all_pmids(conn_sqlite)"
   ],
   "metadata": {},
   "execution_count": null
  },
  {
   "outputs": [],
   "cell_type": "markdown",
   "source": [
    "#### Explore the tables\n",
    "You may use the SQLite commands directly. The return type is a DataFrame."
   ],
   "metadata": {}
  },
  {
   "outputs": [],
   "cell_type": "code",
   "source": [
    "tables = [\"author_ref\", \"mesh_desc\", \"mesh_qual\", \"mesh_heading\"]\n",
    "for t in tables\n",
    "    query_str = \"SELECT * FROM $t LIMIT 5;\"\n",
    "    q = SQLite.query(conn_sqlite, query_str)\n",
    "    println(q)\n",
    "end"
   ],
   "metadata": {},
   "execution_count": null
  },
  {
   "outputs": [],
   "cell_type": "markdown",
   "source": [
    "### Citations\n",
    "Citation type can be \"endnote\" or \"bibtex\""
   ],
   "metadata": {}
  },
  {
   "outputs": [],
   "cell_type": "code",
   "source": [
    "enw_file = \"$(results_dir)/pubmed_obesity_2010_2012.enw\"\n",
    "endnote_citation = PubMed.CitationOutput(\"endnote\", enw_file, true)\n",
    "Processes.pubmed_search_and_save!(email, search_term, max_articles, endnote_citation, verbose);\n",
    "\n",
    "println(read(enw_file, String))"
   ],
   "metadata": {},
   "execution_count": null
  },
  {
   "outputs": [],
   "cell_type": "markdown",
   "source": [
    "### DataFrames\n",
    "Returns a dictionary of dataframes which match the content and structure of the database tables."
   ],
   "metadata": {}
  },
  {
   "outputs": [],
   "cell_type": "code",
   "source": [
    "dfs = Processes.pubmed_search_and_parse(email, search_term, max_articles, verbose)"
   ],
   "metadata": {},
   "execution_count": null
  },
  {
   "outputs": [],
   "cell_type": "markdown",
   "source": [
    "*This notebook was generated using [Literate.jl](https://github.com/fredrikekre/Literate.jl).*"
   ],
   "metadata": {}
  }
 ],
 "nbformat_minor": 3,
 "metadata": {
  "language_info": {
   "file_extension": ".jl",
   "mimetype": "application/julia",
   "name": "julia",
   "version": "0.7.0"
  },
  "kernelspec": {
   "name": "julia-0.7",
   "display_name": "Julia 0.7.0",
   "language": "julia"
  }
 },
 "nbformat": 4
}
