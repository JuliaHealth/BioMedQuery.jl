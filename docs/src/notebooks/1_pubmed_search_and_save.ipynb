{
 "cells": [
  {
   "outputs": [],
   "cell_type": "markdown",
   "source": [
    "# Search PubMed and Save Results"
   ],
   "metadata": {}
  },
  {
   "outputs": [],
   "cell_type": "markdown",
   "source": [
    "This example demonstrates the typical workflow to query pubmed and store\n",
    "the results. The following backends are supported for storing the results:\n",
    "* MySQL\n",
    "* SQLite\n",
    "* Citation (endnote/bibtex)\n",
    "* DataFrames"
   ],
   "metadata": {}
  },
  {
   "outputs": [],
   "cell_type": "markdown",
   "source": [
    "### Set Up"
   ],
   "metadata": {}
  },
  {
   "outputs": [],
   "cell_type": "code",
   "source": [
    "using BioMedQuery.DBUtils\n",
    "using BioMedQuery.PubMed\n",
    "using BioMedQuery.Processes\n",
    "using DataFrames\n",
    "using MySQL\n",
    "using SQLite"
   ],
   "metadata": {},
   "execution_count": 1
  },
  {
   "outputs": [],
   "cell_type": "markdown",
   "source": [
    "Variables used to search PubMed"
   ],
   "metadata": {}
  },
  {
   "outputs": [],
   "cell_type": "code",
   "source": [
    "email = \"\"; # Only needed if you want to contact NCBI with inqueries\n",
    "search_term = \"\"\"(obesity[MeSH Major Topic]) AND (\"2010\"[Date - Publication] : \"2012\"[Date - Publication])\"\"\";\n",
    "max_articles = 5;\n",
    "results_dir = \".\";\n",
    "verbose = true;"
   ],
   "metadata": {},
   "execution_count": 2
  },
  {
   "outputs": [],
   "cell_type": "markdown",
   "source": [
    "### MySQL backend"
   ],
   "metadata": {}
  },
  {
   "outputs": [],
   "cell_type": "markdown",
   "source": [
    "Initialize database, if it exists it connects to it, otherwise it creates it"
   ],
   "metadata": {}
  },
  {
   "outputs": [],
   "cell_type": "code",
   "source": [
    "const mysql_conn = DBUtils.init_mysql_database(\"127.0.0.1\", \"root\", \"\", \"pubmed_obesity_2010_2012\");"
   ],
   "metadata": {},
   "execution_count": 3
  },
  {
   "outputs": [],
   "cell_type": "markdown",
   "source": [
    "Creates (and deletes if they already exist) all tables needed to save a pubmed search"
   ],
   "metadata": {}
  },
  {
   "outputs": [],
   "cell_type": "code",
   "source": [
    "PubMed.create_tables!(mysql_conn);"
   ],
   "metadata": {},
   "execution_count": 4
  },
  {
   "outputs": [],
   "cell_type": "markdown",
   "source": [
    "Search pubmed and save results to database"
   ],
   "metadata": {}
  },
  {
   "outputs": [
    {
     "name": "stdout",
     "output_type": "stream",
     "text": [
      "Getting 5 articles, starting at index 0\n",
      "------ESearch--------\n",
      "------EFetch--------\n",
      "------Save to database--------\n",
      "Saving 5 articles to database\n",
      "Finished searching, total number of articles: 5\n"
     ]
    }
   ],
   "cell_type": "code",
   "source": [
    "Processes.pubmed_search_and_save!(email, search_term, max_articles, mysql_conn, verbose)"
   ],
   "metadata": {},
   "execution_count": 5
  },
  {
   "outputs": [],
   "cell_type": "markdown",
   "source": [
    "#### Access all PMIDs"
   ],
   "metadata": {}
  },
  {
   "outputs": [
    {
     "output_type": "execute_result",
     "data": {
      "text/plain": "5-element Array{Int32,1}:\n 24315250\n 24444198\n 24533500\n 24694474\n 25548090"
     },
     "metadata": {},
     "execution_count": 6
    }
   ],
   "cell_type": "code",
   "source": [
    "all_pmids(mysql_conn)"
   ],
   "metadata": {},
   "execution_count": 6
  },
  {
   "outputs": [],
   "cell_type": "markdown",
   "source": [
    "#### Explore tables\n",
    "You may use the MySQL command directly. If you want the return type to be a DataFrame, you need to explicitly request so."
   ],
   "metadata": {}
  },
  {
   "outputs": [
    {
     "name": "stdout",
     "output_type": "stream",
     "text": [
      "5×9 DataFrames.DataFrame. Omitted printing of 3 columns\n",
      "│ Row │ pmid     │ last_name │ first_name │ initials │ suffix  │ orcid   │\n",
      "├─────┼──────────┼───────────┼────────────┼──────────┼─────────┼─────────┤\n",
      "│ 1   │ 25548090 │ So        │ Eun Sun    │ ES       │ missing │ missing │\n",
      "│ 2   │ 25548090 │ Yoo       │ Kwang Soo  │ KS       │ missing │ missing │\n",
      "│ 3   │ 24694474 │ Sakurai   │ Masaru     │ M        │ missing │ missing │\n",
      "│ 4   │ 24694474 │ Nakamura  │ Koshi      │ K        │ missing │ missing │\n",
      "│ 5   │ 24694474 │ Miura     │ Katsuyuki  │ K        │ missing │ missing │\n",
      "5×3 DataFrames.DataFrame\n",
      "│ Row │ uid  │ name                 │ ins_dt_time         │\n",
      "├─────┼──────┼──────────────────────┼─────────────────────┤\n",
      "│ 1   │ 328  │ Adult                │ 2018-07-26T13:47:19 │\n",
      "│ 2   │ 368  │ Aged                 │ 2018-07-26T13:47:19 │\n",
      "│ 3   │ 369  │ Aged, 80 and over    │ 2018-07-26T13:47:19 │\n",
      "│ 4   │ 704  │ Analysis of Variance │ 2018-07-26T13:47:19 │\n",
      "│ 5   │ 1835 │ Body Weight          │ 2018-07-26T13:47:19 │\n",
      "5×3 DataFrames.DataFrame\n",
      "│ Row │ uid │ name          │ ins_dt_time         │\n",
      "├─────┼─────┼───────────────┼─────────────────────┤\n",
      "│ 1   │ 32  │ analysis      │ 2018-07-26T13:47:19 │\n",
      "│ 2   │ 97  │ blood         │ 2018-07-26T13:47:19 │\n",
      "│ 3   │ 150 │ complications │ 2018-07-26T13:47:19 │\n",
      "│ 4   │ 208 │ ethnology     │ 2018-07-26T13:47:19 │\n",
      "│ 5   │ 209 │ etiology      │ 2018-07-26T13:47:19 │\n",
      "5×6 DataFrames.DataFrame. Omitted printing of 1 columns\n",
      "│ Row │ pmid     │ desc_uid │ desc_maj_status │ qual_uid │ qual_maj_status │\n",
      "├─────┼──────────┼──────────┼─────────────────┼──────────┼─────────────────┤\n",
      "│ 1   │ 25548090 │ 17677    │ 0               │ missing  │ missing         │\n",
      "│ 2   │ 25548090 │ 368      │ 0               │ missing  │ missing         │\n",
      "│ 3   │ 25548090 │ 369      │ 0               │ missing  │ missing         │\n",
      "│ 4   │ 25548090 │ 5260     │ 0               │ missing  │ missing         │\n",
      "│ 5   │ 25548090 │ 6801     │ 0               │ missing  │ missing         │\n"
     ]
    }
   ],
   "cell_type": "code",
   "source": [
    "tables = [\"author_ref\", \"mesh_desc\", \"mesh_qual\", \"mesh_heading\"]\n",
    "for t in tables\n",
    "    query_str = \"SELECT * FROM $t LIMIT 5;\"\n",
    "    q = MySQL.query(mysql_conn, query_str, DataFrame)\n",
    "    println(q)\n",
    "end"
   ],
   "metadata": {},
   "execution_count": 7
  },
  {
   "outputs": [],
   "cell_type": "code",
   "source": [
    "MySQL.disconnect(mysql_conn);"
   ],
   "metadata": {},
   "execution_count": 8
  },
  {
   "outputs": [],
   "cell_type": "markdown",
   "source": [
    "### SQLite backend"
   ],
   "metadata": {}
  },
  {
   "outputs": [],
   "cell_type": "code",
   "source": [
    "const db_path = \"$(results_dir)/pubmed_obesity_2010_2012.db\";"
   ],
   "metadata": {},
   "execution_count": 9
  },
  {
   "outputs": [],
   "cell_type": "markdown",
   "source": [
    "Overwrite the database if it already exists"
   ],
   "metadata": {}
  },
  {
   "outputs": [],
   "cell_type": "code",
   "source": [
    "if isfile(db_path)\n",
    "    rm(db_path)\n",
    "end"
   ],
   "metadata": {},
   "execution_count": 10
  },
  {
   "outputs": [],
   "cell_type": "markdown",
   "source": [
    "Connect to the database"
   ],
   "metadata": {}
  },
  {
   "outputs": [],
   "cell_type": "code",
   "source": [
    "const conn_sqlite = SQLite.DB(db_path);"
   ],
   "metadata": {},
   "execution_count": 11
  },
  {
   "outputs": [],
   "cell_type": "markdown",
   "source": [
    "Creates (and deletes if they already exist) all tables needed to save a pubmed search"
   ],
   "metadata": {}
  },
  {
   "outputs": [],
   "cell_type": "code",
   "source": [
    "PubMed.create_tables!(conn_sqlite);"
   ],
   "metadata": {},
   "execution_count": 12
  },
  {
   "outputs": [],
   "cell_type": "markdown",
   "source": [
    "Search PubMed and save the results"
   ],
   "metadata": {}
  },
  {
   "outputs": [
    {
     "name": "stdout",
     "output_type": "stream",
     "text": [
      "Getting 5 articles, starting at index 0\n",
      "------ESearch--------\n",
      "------EFetch--------\n",
      "------Save to database--------\n",
      "Saving 5 articles to database\n",
      "Finished searching, total number of articles: 5\n"
     ]
    }
   ],
   "cell_type": "code",
   "source": [
    "Processes.pubmed_search_and_save!(email, search_term, max_articles, conn_sqlite, verbose)"
   ],
   "metadata": {},
   "execution_count": 13
  },
  {
   "outputs": [],
   "cell_type": "markdown",
   "source": [
    "#### Access all PMIDs"
   ],
   "metadata": {}
  },
  {
   "outputs": [
    {
     "output_type": "execute_result",
     "data": {
      "text/plain": "5-element Array{Union{Int64, Missings.Missing},1}:\n 24315250\n 24444198\n 24533500\n 24694474\n 25548090"
     },
     "metadata": {},
     "execution_count": 14
    }
   ],
   "cell_type": "code",
   "source": [
    "all_pmids(conn_sqlite)"
   ],
   "metadata": {},
   "execution_count": 14
  },
  {
   "outputs": [],
   "cell_type": "markdown",
   "source": [
    "#### Explore the tables\n",
    "You may use the SQLite commands directly. The return type is a DataFrame."
   ],
   "metadata": {}
  },
  {
   "outputs": [
    {
     "name": "stdout",
     "output_type": "stream",
     "text": [
      "5×9 DataFrames.DataFrame. Omitted printing of 3 columns\n",
      "│ Row │ pmid     │ last_name │ first_name │ initials │ suffix  │ orcid   │\n",
      "├─────┼──────────┼───────────┼────────────┼──────────┼─────────┼─────────┤\n",
      "│ 1   │ 25548090 │ So        │ Eun Sun    │ ES       │ missing │ missing │\n",
      "│ 2   │ 25548090 │ Yoo       │ Kwang Soo  │ KS       │ missing │ missing │\n",
      "│ 3   │ 24694474 │ Sakurai   │ Masaru     │ M        │ missing │ missing │\n",
      "│ 4   │ 24694474 │ Nakamura  │ Koshi      │ K        │ missing │ missing │\n",
      "│ 5   │ 24694474 │ Miura     │ Katsuyuki  │ K        │ missing │ missing │\n",
      "5×3 DataFrames.DataFrame\n",
      "│ Row │ uid   │ name              │ ins_dt_time         │\n",
      "├─────┼───────┼───────────────────┼─────────────────────┤\n",
      "│ 1   │ 12016 │ Reference Values  │ 2018-07-26 17:47:25 │\n",
      "│ 2   │ 56910 │ Republic of Korea │ 2018-07-26 17:47:25 │\n",
      "│ 3   │ 12372 │ ROC Curve         │ 2018-07-26 17:47:25 │\n",
      "│ 4   │ 5221  │ Fatigue           │ 2018-07-26 17:47:25 │\n",
      "│ 5   │ 9765  │ Obesity           │ 2018-07-26 17:47:25 │\n",
      "5×3 DataFrames.DataFrame\n",
      "│ Row │ uid │ name                        │ ins_dt_time         │\n",
      "├─────┼─────┼─────────────────────────────┼─────────────────────┤\n",
      "│ 1   │ 208 │ ethnology                   │ 2018-07-26 17:47:25 │\n",
      "│ 2   │ 706 │ statistics & numerical data │ 2018-07-26 17:47:25 │\n",
      "│ 3   │ 453 │ epidemiology                │ 2018-07-26 17:47:25 │\n",
      "│ 4   │ 502 │ physiology                  │ 2018-07-26 17:47:25 │\n",
      "│ 5   │ 32  │ analysis                    │ 2018-07-26 17:47:25 │\n",
      "5×6 DataFrames.DataFrame. Omitted printing of 1 columns\n",
      "│ Row │ pmid     │ desc_uid │ desc_maj_status │ qual_uid │ qual_maj_status │\n",
      "├─────┼──────────┼──────────┼─────────────────┼──────────┼─────────────────┤\n",
      "│ 1   │ 25548090 │ 17677    │ 0               │ missing  │ missing         │\n",
      "│ 2   │ 25548090 │ 368      │ 0               │ missing  │ missing         │\n",
      "│ 3   │ 25548090 │ 369      │ 0               │ missing  │ missing         │\n",
      "│ 4   │ 25548090 │ 5260     │ 0               │ missing  │ missing         │\n",
      "│ 5   │ 25548090 │ 6801     │ 0               │ missing  │ missing         │\n"
     ]
    }
   ],
   "cell_type": "code",
   "source": [
    "tables = [\"author_ref\", \"mesh_desc\", \"mesh_qual\", \"mesh_heading\"]\n",
    "for t in tables\n",
    "    query_str = \"SELECT * FROM $t LIMIT 5;\"\n",
    "    q = SQLite.query(conn_sqlite, query_str)\n",
    "    println(q)\n",
    "end"
   ],
   "metadata": {},
   "execution_count": 15
  },
  {
   "outputs": [],
   "cell_type": "markdown",
   "source": [
    "### Citations\n",
    "Citation type can be \"endnote\" or \"bibtex\""
   ],
   "metadata": {}
  },
  {
   "outputs": [
    {
     "name": "stdout",
     "output_type": "stream",
     "text": [
      "Getting 5 articles, starting at index 0\n",
      "------ESearch--------\n",
      "------EFetch--------\n",
      "------Save to database--------\n",
      "Saving citation for 5 articles\n",
      "Finished searching, total number of articles: 5\n",
      "%0 Journal Article\n",
      "%A So, ES\n",
      "%A Yoo, KS\n",
      "%D 2015\n",
      "%T Waist circumference cutoff points for central obesity in the Korean elderly population.\n",
      "%J J Appl Gerontol\n",
      "%V 34\n",
      "%N 1\n",
      "%P 102-17\n",
      "%M 25548090\n",
      "%U http://www.ncbi.nlm.nih.gov/pubmed/25548090\n",
      "%X String[\"The aim is to determine the appropriate cutoff values of waist circumference (WC) for an increased risk of the metabolic syndrome in the Korean elderly population. We analyzed the WC cutoff values of four groups divided according to sex and age with a total of 2,224 elderly participants aged 65 years old and above from the Fourth Korean National Health and Nutrition Examination Survey using the receiver operating characteristic curve and multiple logistic regression. The WC cutoff values associated with an increased risk of metabolic syndrome were 89.6 cm for men and 90.5 cm for women for those who were 65 to 74 years old, and 89.9 cm for men and 87.9 cm for women for those who were 75 years old or older. WC cutoff points for estimating metabolic risk are similar in elderly men and women. Age-specific optimal WC cutoff points should be considered especially for elderly women in screening for metabolic syndrome. \"]\n",
      "%K Age Distribution\n",
      "%K Aged\n",
      "%K Aged, 80 and over\n",
      "%K Female\n",
      "%K Humans\n",
      "%K Logistic Models\n",
      "%K Male\n",
      "%K Metabolic Syndrome\n",
      "%K Nutrition Surveys\n",
      "%K Obesity, Abdominal\n",
      "%K ROC Curve\n",
      "%K Republic of Korea\n",
      "%K Risk Factors\n",
      "%K Sex Distribution\n",
      "%K Waist Circumference\n",
      "%+ Chonbuk National University, South Korea soeunjee@naver.com.; Chonbuk National University, South Korea.\n",
      "\n",
      "%0 Journal Article\n",
      "%A Sakurai, M\n",
      "%A Nakamura, K\n",
      "%A Miura, K\n",
      "%A Yoshita, K\n",
      "%A Takamura, T\n",
      "%A Nagasawa, SY\n",
      "%A Morikawa, Y\n",
      "%A Ishizaki, M\n",
      "%A Kido, T\n",
      "%A Naruse, Y\n",
      "%A Nakashima, M\n",
      "%A Nogawa, K\n",
      "%A Suwazono, Y\n",
      "%A Nakagawa, H\n",
      "%D 2014\n",
      "%T Association between a serum thyroid-stimulating hormone concentration within the normal range and indices of obesity in Japanese men and women.\n",
      "%J Intern. Med.\n",
      "%V 53\n",
      "%N 7\n",
      "%P 669-74\n",
      "%M 24694474\n",
      "%U http://www.ncbi.nlm.nih.gov/pubmed/24694474\n",
      "%X String[\"OBJECTIVE: This cross-sectional study investigated the associations between the serum thyroid-stimulating hormone (TSH) concentration and indices of obesity in middle-aged Japanese men and women. METHODS: The participants were 2,037 employees (1,044 men and 993 women; age, 36-55 yr) of a metal products factory in Japan. Clinical examinations were conducted in 2009. We obtained a medical history and anthropometric measurements (body weight, body mass index [BMI] and waist circumference) and measured the serum TSH concentrations. The anthropometric indices were compared across serum TSH quartiles. The associations were evaluated separately according to the smoking status in men. RESULTS: The mean body weight (kg), BMI (kg/m(2)) and waist circumference (cm) were 69.2, 23.7 and 83.2 in men and 55.3, 22.3 and 74.3 in women, respectively. Men with a higher TSH concentration had higher body weight and BMI values (p for trend=0.016 and 0.019, respectively), and these significant associations were observed even after adjusting for age, smoking status and other potential confounders. The TSH level was not associated with waist circumference. We found a significant interaction between the TSH level and the smoking status on body weight (p for interaction=0.013) and a significant association between the TSH level and body weight in nonsmokers, but not in current smokers. No significant associations were observed between the TSH level and the anthropometric indices in women. CONCLUSION: Significant positive associations between the serum TSH concentration, body weight and BMI were detected in men only, and an interaction with the smoking status was observed for this association.\"]\n",
      "%K Adult\n",
      "%K Biomarkers\n",
      "%K Body Mass Index\n",
      "%K Body Weight\n",
      "%K Cross-Sectional Studies\n",
      "%K Female\n",
      "%K Humans\n",
      "%K Incidence\n",
      "%K Japan\n",
      "%K Male\n",
      "%K Middle Aged\n",
      "%K Obesity\n",
      "%K Obesity\n",
      "%K Obesity\n",
      "%K Prevalence\n",
      "%K Prognosis\n",
      "%K Reference Values\n",
      "%K Surveys and Questionnaires\n",
      "%K Thyrotropin\n",
      "%+ Department of Epidemiology and Public Health, Kanazawa Medical University, Japan.\n",
      "\n",
      "%0 Journal Article\n",
      "%A Drenowatz, C\n",
      "%A Kobel, S\n",
      "%A Kettner, S\n",
      "%A Kesztyüs, D\n",
      "%A Steinacker, JM\n",
      "%D 2014\n",
      "%T Interaction of sedentary behaviour, sports participation and fitness with weight status in elementary school children.\n",
      "%J Eur J Sport Sci\n",
      "%V 14\n",
      "%N 1\n",
      "%P 100-5\n",
      "%M 24533500\n",
      "%U http://www.ncbi.nlm.nih.gov/pubmed/24533500\n",
      "%X String[\"Even though the effect of single components contributing to weight gain in children have been addressed only limited research is available on the combined association of sports participation, physical fitness and time spent watching TV with body weight in children. Baseline data from 1594 children (809 male; 785 female), 7.1 ± 0.6 years of age participating in a large school-based intervention in southern Germany was used. Height and weight was measured and body mass index (BMI) percentiles (BMIPCT) were determined accordingly. Sports participation and time spent watching TV was assessed via parent questionnaire while fitness was determined via a composite fitness test. Combined and single associations of sports participation, TV time and fitness with BMIPCT and weight status were assessed via ANCOVA as well as logistic regression analysis, controlling for age and sex. A significant interaction of TV time, sports participation and fitness on BMIPCT occurred, despite low correlations among the three components. Further, there was a combined association of sports participation and TV time on BMIPCT. TV time and fitness were also independently associated with BMIPCT. Similarly, only increased TV time and lower fitness were associated with a higher odds ratio for overweight/obesity. These results underline the complex interaction of TV time, sports participation and fitness with BMIPCT. In children, TV time and fitness have a stronger influence on BMIPCT compared to sports participation. Sports participation, however, may not reflect overall activity levels of children appropriately. More research is necessary to examine the complex interaction of various behaviours and fitness with BMIPCT.\"]\n",
      "%K Analysis of Variance\n",
      "%K Body Mass Index\n",
      "%K Child\n",
      "%K Exercise\n",
      "%K Female\n",
      "%K Germany\n",
      "%K Humans\n",
      "%K Logistic Models\n",
      "%K Male\n",
      "%K Odds Ratio\n",
      "%K Overweight\n",
      "%K Pediatric Obesity\n",
      "%K Physical Fitness\n",
      "%K Sedentary Lifestyle\n",
      "%K Sports\n",
      "%K Surveys and Questionnaires\n",
      "%K Television\n",
      "%K Weight Gain\n",
      "%+ a Division of Sport and Rehabilitation Medicine , Ulm University Medical Center , Ulm , Germany.\n",
      "\n",
      "%0 Journal Article\n",
      "%A Cavagnolli, DA\n",
      "%A Esteves, AM\n",
      "%A Ackel-D'Elia, C\n",
      "%A Maeda, MY\n",
      "%A de Faria, AP\n",
      "%A Tufik, S\n",
      "%A de Mello, MT\n",
      "%D 2014\n",
      "%T Aerobic exercise does not change C-reactive protein levels in non-obese patients with obstructive sleep apnoea.\n",
      "%J Eur J Sport Sci\n",
      "%V 14 Suppl 1\n",
      "%P S142-7\n",
      "%M 24444198\n",
      "%U http://www.ncbi.nlm.nih.gov/pubmed/24444198\n",
      "%X String[\"The aim of this study is to evaluate the effects of a 2-month aerobic exercise training programme on C-reactive protein (CRP) levels in non-obese patients with obstructive sleep apnoea. Twenty non-obese and sedentary adult male volunteers underwent polysomnography (PSG) to assess their sleep parameters. After the PSG analysis, the subjects were divided into two groups (CTRL, control and OSA, obstructive sleep apnoea). Twenty-four sessions of aerobic exercise were performed, and PSG was repeated on the night that followed the last physical training session (24th). Blood samples were collected for CRP analysis before the first exercise session and after the last session. The OSA group demonstrated a reduction in sleep latency (SL) after 2 months of physical exercise, and 80% of them showed a lower apnoea-hypopnoea index (AHI), although this difference was not statistically significant. The differences between the CRP values for the CTRL and OSA groups were also not statistically significant at baseline or after 2 months of physical exercise. Furthermore, there was no correlation between the CRP levels and body mass index (BMI) in the two groups assessed. Our results suggest that in non-obese patients with OSA, CRP levels were normal and did not change after 2 months of aerobic exercise training.\"]\n",
      "%K Adult\n",
      "%K C-Reactive Protein\n",
      "%K Case-Control Studies\n",
      "%K Exercise\n",
      "%K Humans\n",
      "%K Male\n",
      "%K Middle Aged\n",
      "%K Obesity\n",
      "%K Sleep Apnea, Obstructive\n",
      "%K Young Adult\n",
      "%+ a Departamento de Psicobiologia , Universidade Federal de São Paulo , São Paulo , Brazil.\n",
      "\n",
      "%0 Journal Article\n",
      "%A Aparicio, VA\n",
      "%A Ortega, FB\n",
      "%A Carbonell-Baeza, A\n",
      "%A Gatto-Cardia, C\n",
      "%A Sjöström, M\n",
      "%A Ruiz, JR\n",
      "%A Delgado-Fernández, M\n",
      "%D 2013\n",
      "%T Fibromyalgia's key symptoms in normal-weight, overweight, and obese female patients.\n",
      "%J Pain Manag Nurs\n",
      "%V 14\n",
      "%N 4\n",
      "%P 268-276\n",
      "%M 24315250\n",
      "%U http://www.ncbi.nlm.nih.gov/pubmed/24315250\n",
      "%X String[\"Factors affecting the symptomatology of fibromyalgia (FM) are not fully understood. The aim of the present study was to analyze the relationship of weight status with pain, fatigue, and stiffness in Spanish female FM patients, with special focus on the differences between overweight and obese patients. The sample comprised 177 Spanish women with FM (51.3 ± 7.3 years old). We assessed tenderness (using pressure algometry), pain and vitality using the General Health Short-Form Survey (SF36), and pain, fatigue, morning tiredness, and stiffness using the Fibromyalgia Impact Questionnaire (FIQ). The international criteria for body mass index was used to classify the patients as normal weight, overweight, or obese. Thirty-two percent were normal-weight, 35% overweight, and 32% obese. Both overweight and obese patients had higher levels of pain than normal-weight patients, as assessed by FIQ and SF36 questionnaires and tender point count (p < .01). The same pattern was observed for algometer score, yet the differences were not significant. Both overweight and obese patients had higher levels of fatigue, and morning tiredness, and stiffness (p < .05) and less vitality than normal-weight patients. No significant differences were observed in any of the variables studied between overweight and obese patients. In conclusion, FM symptomatology in obese patients did not differ from overweight patients, whereas normal-weight patients significantly differed from overweight and obese patients in the studied symptoms. These findings suggest that keeping a healthy (normal) weight is not only associated with decreased risk for developing FM but might also be a relevant and useful way of improving FM symptomatology in women. \"]\n",
      "%K Adult\n",
      "%K Body Mass Index\n",
      "%K Body Weight\n",
      "%K Fatigue\n",
      "%K Female\n",
      "%K Fibromyalgia\n",
      "%K Health Status\n",
      "%K Humans\n",
      "%K Middle Aged\n",
      "%K Obesity\n",
      "%K Overweight\n",
      "%K Pain\n",
      "%K Pain Measurement\n",
      "%K Quality of Life\n",
      "%K Severity of Illness Index\n",
      "%K Surveys and Questionnaires\n",
      "%+ Department of Physical Education and Sport, School of Physical Activity and Sports Sciences, University of Granada, Granada, Spain; Department of Biosciences and Nutrition, Unit for Preventive Nutrition, Novum, Karolinska Institutet, Stockholm Sweden; Department of Physiology and Institute of Nutrition and Food Technology, University of Granada, Granada, Spain. Electronic address: virginiaparicio@ugr.es.; Department of Biosciences and Nutrition, Unit for Preventive Nutrition, Novum, Karolinska Institutet, Stockholm Sweden; Department of Physiology, School of Medicine, University of Granada, Granada, Spain.; Department of Physical Education and Sport, School of Physical Activity and Sports Sciences, University of Granada, Granada, Spain; Department of Physical Education and Sport, School of Education, University of Seville, Seville, Spain.; Department of Physical Education and Sport, School of Physical Activity and Sports Sciences, University of Granada, Granada, Spain.; Department of Biosciences and Nutrition, Unit for Preventive Nutrition, Novum, Karolinska Institutet, Stockholm Sweden.; Department of Biosciences and Nutrition, Unit for Preventive Nutrition, Novum, Karolinska Institutet, Stockholm Sweden.; Department of Physical Education and Sport, School of Physical Activity and Sports Sciences, University of Granada, Granada, Spain.\n",
      "\n",
      "\n"
     ]
    }
   ],
   "cell_type": "code",
   "source": [
    "enw_file = \"$(results_dir)/pubmed_obesity_2010_2012.enw\"\n",
    "endnote_citation = PubMed.CitationOutput(\"endnote\", enw_file, true)\n",
    "Processes.pubmed_search_and_save!(email, search_term, max_articles, endnote_citation, verbose);\n",
    "\n",
    "println(readstring(enw_file))"
   ],
   "metadata": {},
   "execution_count": 16
  },
  {
   "outputs": [],
   "cell_type": "markdown",
   "source": [
    "### DataFrames\n",
    "Returns a dictionary of dataframes which match the content and structure of the database tables."
   ],
   "metadata": {}
  },
  {
   "outputs": [
    {
     "name": "stdout",
     "output_type": "stream",
     "text": [
      "Getting 5 articles, starting at index 0\n",
      "------ESearch--------\n",
      "------EFetch--------\n",
      "------Save to dataframes--------\n"
     ]
    },
    {
     "output_type": "execute_result",
     "data": {
      "text/plain": "Dict{String,DataFrames.DataFrame} with 8 entries:\n  \"basic\"               => 5×13 DataFrames.DataFrame. Omitted printing of 9 col…\n  \"mesh_desc\"           => 52×2 DataFrames.DataFrame…\n  \"mesh_qual\"           => 9×2 DataFrames.DataFrame…\n  \"pub_type\"            => 10×3 DataFrames.DataFrame…\n  \"abstract_full\"       => 5×2 DataFrames.DataFrame. Omitted printing of 1 colu…\n  \"author_ref\"          => 35×8 DataFrames.DataFrame. Omitted printing of 3 col…\n  \"mesh_heading\"        => 78×5 DataFrames.DataFrame…\n  \"abstract_structured\" => 4×4 DataFrames.DataFrame. Omitted printing of 1 colu…"
     },
     "metadata": {},
     "execution_count": 17
    }
   ],
   "cell_type": "code",
   "source": [
    "dfs = Processes.pubmed_search_and_parse(email, search_term, max_articles, verbose)"
   ],
   "metadata": {},
   "execution_count": 17
  },
  {
   "outputs": [],
   "cell_type": "markdown",
   "source": [
    "*This notebook was generated using [Literate.jl](https://github.com/fredrikekre/Literate.jl).*"
   ],
   "metadata": {}
  }
 ],
 "nbformat_minor": 3,
 "metadata": {
  "language_info": {
   "file_extension": ".jl",
   "mimetype": "application/julia",
   "name": "julia",
   "version": "0.6.3"
  },
  "kernelspec": {
   "name": "julia-0.6",
   "display_name": "Julia 0.6.3",
   "language": "julia"
  }
 },
 "nbformat": 4
}
