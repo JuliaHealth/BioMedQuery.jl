{
 "cells": [
  {
   "outputs": [],
   "cell_type": "markdown",
   "source": [
    "# Export PubMed Citations"
   ],
   "metadata": {}
  },
  {
   "outputs": [],
   "cell_type": "markdown",
   "source": [
    "BioMedQuery has functions to search PubMed for PMIDs and save the xml data\n",
    "as either a BibTex or EndNote citation.\n",
    "\n",
    "Here we export EndNote/BibTex citations from a PMID or a list of PMIDs. If you need\n",
    "to search Entrez/PubMed and save the results as citations, refer to Examples / PubMed Search and Save."
   ],
   "metadata": {}
  },
  {
   "outputs": [],
   "cell_type": "markdown",
   "source": [
    "### Set Up"
   ],
   "metadata": {}
  },
  {
   "outputs": [],
   "cell_type": "code",
   "source": [
    "using BioMedQuery.Processes"
   ],
   "metadata": {},
   "execution_count": null
  },
  {
   "outputs": [],
   "cell_type": "markdown",
   "source": [
    "The functions require a directory to save the citation files to"
   ],
   "metadata": {}
  },
  {
   "outputs": [],
   "cell_type": "code",
   "source": [
    "results_dir = \".\";\n",
    "\n",
    "if !isdir(results_dir)\n",
    "     mkdir(results_dir)\n",
    "end"
   ],
   "metadata": {},
   "execution_count": null
  },
  {
   "outputs": [],
   "cell_type": "markdown",
   "source": [
    "For this example, the below PMIDs are searched and saved as citations"
   ],
   "metadata": {}
  },
  {
   "outputs": [],
   "cell_type": "code",
   "source": [
    "pmid = 11748933;\n",
    "pmid_list = [24008025, 24170597];"
   ],
   "metadata": {},
   "execution_count": null
  },
  {
   "outputs": [],
   "cell_type": "markdown",
   "source": [
    "### Export as an EndNote library file"
   ],
   "metadata": {}
  },
  {
   "outputs": [],
   "cell_type": "markdown",
   "source": [
    "Saving one PMID's citaiton as an EndNote file"
   ],
   "metadata": {}
  },
  {
   "outputs": [],
   "cell_type": "code",
   "source": [
    "enw_file = results_dir * \"/11748933.enw\";\n",
    "export_citation(pmid, \"endnote\", enw_file);"
   ],
   "metadata": {},
   "execution_count": null
  },
  {
   "outputs": [],
   "cell_type": "markdown",
   "source": [
    "Saving two PMIDs' citations as an EndNote file"
   ],
   "metadata": {}
  },
  {
   "outputs": [],
   "cell_type": "code",
   "source": [
    "enw_file = results_dir * \"/pmid_list.enw\";\n",
    "export_citation(pmid_list, \"endnote\", enw_file);"
   ],
   "metadata": {},
   "execution_count": null
  },
  {
   "outputs": [],
   "cell_type": "markdown",
   "source": [
    "#### Explore one of the output files"
   ],
   "metadata": {}
  },
  {
   "outputs": [],
   "cell_type": "code",
   "source": [
    "println(read(enw_file, String))"
   ],
   "metadata": {},
   "execution_count": null
  },
  {
   "outputs": [],
   "cell_type": "markdown",
   "source": [
    "### Export as a Bibtex file"
   ],
   "metadata": {}
  },
  {
   "outputs": [],
   "cell_type": "markdown",
   "source": [
    "Saving one PMID's citation as a BibTex file"
   ],
   "metadata": {}
  },
  {
   "outputs": [],
   "cell_type": "code",
   "source": [
    "bib_file = results_dir * \"/11748933.bib\";\n",
    "export_citation(pmid, \"bibtex\", bib_file);"
   ],
   "metadata": {},
   "execution_count": null
  },
  {
   "outputs": [],
   "cell_type": "markdown",
   "source": [
    "Saving two PMIDs' citations as a BibTex file"
   ],
   "metadata": {}
  },
  {
   "outputs": [],
   "cell_type": "code",
   "source": [
    "bib_file = results_dir * \"/pmid_list.bib\";\n",
    "export_citation(pmid_list, \"bibtex\", bib_file);"
   ],
   "metadata": {},
   "execution_count": null
  },
  {
   "outputs": [],
   "cell_type": "markdown",
   "source": [
    "#### Explore one of the output files"
   ],
   "metadata": {}
  },
  {
   "outputs": [],
   "cell_type": "code",
   "source": [
    "println(read(bib_file, String))"
   ],
   "metadata": {},
   "execution_count": null
  },
  {
   "outputs": [],
   "cell_type": "markdown",
   "source": [
    "*This notebook was generated using [Literate.jl](https://github.com/fredrikekre/Literate.jl).*"
   ],
   "metadata": {}
  }
 ],
 "nbformat_minor": 3,
 "metadata": {
  "language_info": {
   "file_extension": ".jl",
   "mimetype": "application/julia",
   "name": "julia",
   "version": "0.7.0"
  },
  "kernelspec": {
   "name": "julia-0.7",
   "display_name": "Julia 0.7.0",
   "language": "julia"
  }
 },
 "nbformat": 4
}
